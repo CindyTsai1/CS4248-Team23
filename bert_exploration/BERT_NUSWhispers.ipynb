{
  "nbformat": 4,
  "nbformat_minor": 0,
  "metadata": {
    "colab": {
      "name": "BERT NUSWhispers.ipynb",
      "provenance": [],
      "collapsed_sections": [
        "IdueHywYpKuD",
        "NVUC1sivPTxK",
        "nDNlyneJTxhq"
      ],
      "toc_visible": true,
      "machine_shape": "hm"
    },
    "kernelspec": {
      "name": "python3",
      "display_name": "Python 3"
    },
    "language_info": {
      "name": "python"
    },
    "accelerator": "GPU",
    "widgets": {
      "application/vnd.jupyter.widget-state+json": {
        "3135c4d262494c93b3d876434ed9e526": {
          "model_module": "@jupyter-widgets/controls",
          "model_name": "HBoxModel",
          "state": {
            "_view_name": "HBoxView",
            "_dom_classes": [],
            "_model_name": "HBoxModel",
            "_view_module": "@jupyter-widgets/controls",
            "_model_module_version": "1.5.0",
            "_view_count": null,
            "_view_module_version": "1.5.0",
            "box_style": "",
            "layout": "IPY_MODEL_e46b4a86cd73432faa0c0614930386b1",
            "_model_module": "@jupyter-widgets/controls",
            "children": [
              "IPY_MODEL_2c50af17ace44cd8a7880c28ff84cc3b",
              "IPY_MODEL_988903324270471c8ba144a5d8c4d330"
            ]
          }
        },
        "e46b4a86cd73432faa0c0614930386b1": {
          "model_module": "@jupyter-widgets/base",
          "model_name": "LayoutModel",
          "state": {
            "_view_name": "LayoutView",
            "grid_template_rows": null,
            "right": null,
            "justify_content": null,
            "_view_module": "@jupyter-widgets/base",
            "overflow": null,
            "_model_module_version": "1.2.0",
            "_view_count": null,
            "flex_flow": null,
            "width": null,
            "min_width": null,
            "border": null,
            "align_items": null,
            "bottom": null,
            "_model_module": "@jupyter-widgets/base",
            "top": null,
            "grid_column": null,
            "overflow_y": null,
            "overflow_x": null,
            "grid_auto_flow": null,
            "grid_area": null,
            "grid_template_columns": null,
            "flex": null,
            "_model_name": "LayoutModel",
            "justify_items": null,
            "grid_row": null,
            "max_height": null,
            "align_content": null,
            "visibility": null,
            "align_self": null,
            "height": null,
            "min_height": null,
            "padding": null,
            "grid_auto_rows": null,
            "grid_gap": null,
            "max_width": null,
            "order": null,
            "_view_module_version": "1.2.0",
            "grid_template_areas": null,
            "object_position": null,
            "object_fit": null,
            "grid_auto_columns": null,
            "margin": null,
            "display": null,
            "left": null
          }
        },
        "2c50af17ace44cd8a7880c28ff84cc3b": {
          "model_module": "@jupyter-widgets/controls",
          "model_name": "FloatProgressModel",
          "state": {
            "_view_name": "ProgressView",
            "style": "IPY_MODEL_0cd2d57c2e3843fb807912f3594b5108",
            "_dom_classes": [],
            "description": "Downloading: 100%",
            "_model_name": "FloatProgressModel",
            "bar_style": "success",
            "max": 213450,
            "_view_module": "@jupyter-widgets/controls",
            "_model_module_version": "1.5.0",
            "value": 213450,
            "_view_count": null,
            "_view_module_version": "1.5.0",
            "orientation": "horizontal",
            "min": 0,
            "description_tooltip": null,
            "_model_module": "@jupyter-widgets/controls",
            "layout": "IPY_MODEL_267f4fb670a84a8ea91686a08c8b28fc"
          }
        },
        "988903324270471c8ba144a5d8c4d330": {
          "model_module": "@jupyter-widgets/controls",
          "model_name": "HTMLModel",
          "state": {
            "_view_name": "HTMLView",
            "style": "IPY_MODEL_5a101d4aa7c24d27a99d51ce14001c28",
            "_dom_classes": [],
            "description": "",
            "_model_name": "HTMLModel",
            "placeholder": "​",
            "_view_module": "@jupyter-widgets/controls",
            "_model_module_version": "1.5.0",
            "value": " 213k/213k [00:00&lt;00:00, 237kB/s]",
            "_view_count": null,
            "_view_module_version": "1.5.0",
            "description_tooltip": null,
            "_model_module": "@jupyter-widgets/controls",
            "layout": "IPY_MODEL_6880cfcc886b47cb89fb9532c9a87f55"
          }
        },
        "0cd2d57c2e3843fb807912f3594b5108": {
          "model_module": "@jupyter-widgets/controls",
          "model_name": "ProgressStyleModel",
          "state": {
            "_view_name": "StyleView",
            "_model_name": "ProgressStyleModel",
            "description_width": "initial",
            "_view_module": "@jupyter-widgets/base",
            "_model_module_version": "1.5.0",
            "_view_count": null,
            "_view_module_version": "1.2.0",
            "bar_color": null,
            "_model_module": "@jupyter-widgets/controls"
          }
        },
        "267f4fb670a84a8ea91686a08c8b28fc": {
          "model_module": "@jupyter-widgets/base",
          "model_name": "LayoutModel",
          "state": {
            "_view_name": "LayoutView",
            "grid_template_rows": null,
            "right": null,
            "justify_content": null,
            "_view_module": "@jupyter-widgets/base",
            "overflow": null,
            "_model_module_version": "1.2.0",
            "_view_count": null,
            "flex_flow": null,
            "width": null,
            "min_width": null,
            "border": null,
            "align_items": null,
            "bottom": null,
            "_model_module": "@jupyter-widgets/base",
            "top": null,
            "grid_column": null,
            "overflow_y": null,
            "overflow_x": null,
            "grid_auto_flow": null,
            "grid_area": null,
            "grid_template_columns": null,
            "flex": null,
            "_model_name": "LayoutModel",
            "justify_items": null,
            "grid_row": null,
            "max_height": null,
            "align_content": null,
            "visibility": null,
            "align_self": null,
            "height": null,
            "min_height": null,
            "padding": null,
            "grid_auto_rows": null,
            "grid_gap": null,
            "max_width": null,
            "order": null,
            "_view_module_version": "1.2.0",
            "grid_template_areas": null,
            "object_position": null,
            "object_fit": null,
            "grid_auto_columns": null,
            "margin": null,
            "display": null,
            "left": null
          }
        },
        "5a101d4aa7c24d27a99d51ce14001c28": {
          "model_module": "@jupyter-widgets/controls",
          "model_name": "DescriptionStyleModel",
          "state": {
            "_view_name": "StyleView",
            "_model_name": "DescriptionStyleModel",
            "description_width": "",
            "_view_module": "@jupyter-widgets/base",
            "_model_module_version": "1.5.0",
            "_view_count": null,
            "_view_module_version": "1.2.0",
            "_model_module": "@jupyter-widgets/controls"
          }
        },
        "6880cfcc886b47cb89fb9532c9a87f55": {
          "model_module": "@jupyter-widgets/base",
          "model_name": "LayoutModel",
          "state": {
            "_view_name": "LayoutView",
            "grid_template_rows": null,
            "right": null,
            "justify_content": null,
            "_view_module": "@jupyter-widgets/base",
            "overflow": null,
            "_model_module_version": "1.2.0",
            "_view_count": null,
            "flex_flow": null,
            "width": null,
            "min_width": null,
            "border": null,
            "align_items": null,
            "bottom": null,
            "_model_module": "@jupyter-widgets/base",
            "top": null,
            "grid_column": null,
            "overflow_y": null,
            "overflow_x": null,
            "grid_auto_flow": null,
            "grid_area": null,
            "grid_template_columns": null,
            "flex": null,
            "_model_name": "LayoutModel",
            "justify_items": null,
            "grid_row": null,
            "max_height": null,
            "align_content": null,
            "visibility": null,
            "align_self": null,
            "height": null,
            "min_height": null,
            "padding": null,
            "grid_auto_rows": null,
            "grid_gap": null,
            "max_width": null,
            "order": null,
            "_view_module_version": "1.2.0",
            "grid_template_areas": null,
            "object_position": null,
            "object_fit": null,
            "grid_auto_columns": null,
            "margin": null,
            "display": null,
            "left": null
          }
        },
        "5c3e18a2072b4a80afa83ea5067780bb": {
          "model_module": "@jupyter-widgets/controls",
          "model_name": "HBoxModel",
          "state": {
            "_view_name": "HBoxView",
            "_dom_classes": [],
            "_model_name": "HBoxModel",
            "_view_module": "@jupyter-widgets/controls",
            "_model_module_version": "1.5.0",
            "_view_count": null,
            "_view_module_version": "1.5.0",
            "box_style": "",
            "layout": "IPY_MODEL_e2859d9ca95e4bebbfca8e66b2f746be",
            "_model_module": "@jupyter-widgets/controls",
            "children": [
              "IPY_MODEL_6dc8a91954924bbe956849f6e0120a8f",
              "IPY_MODEL_fe0b8985f9ef4a21a37de06d8ed6e6aa"
            ]
          }
        },
        "e2859d9ca95e4bebbfca8e66b2f746be": {
          "model_module": "@jupyter-widgets/base",
          "model_name": "LayoutModel",
          "state": {
            "_view_name": "LayoutView",
            "grid_template_rows": null,
            "right": null,
            "justify_content": null,
            "_view_module": "@jupyter-widgets/base",
            "overflow": null,
            "_model_module_version": "1.2.0",
            "_view_count": null,
            "flex_flow": null,
            "width": null,
            "min_width": null,
            "border": null,
            "align_items": null,
            "bottom": null,
            "_model_module": "@jupyter-widgets/base",
            "top": null,
            "grid_column": null,
            "overflow_y": null,
            "overflow_x": null,
            "grid_auto_flow": null,
            "grid_area": null,
            "grid_template_columns": null,
            "flex": null,
            "_model_name": "LayoutModel",
            "justify_items": null,
            "grid_row": null,
            "max_height": null,
            "align_content": null,
            "visibility": null,
            "align_self": null,
            "height": null,
            "min_height": null,
            "padding": null,
            "grid_auto_rows": null,
            "grid_gap": null,
            "max_width": null,
            "order": null,
            "_view_module_version": "1.2.0",
            "grid_template_areas": null,
            "object_position": null,
            "object_fit": null,
            "grid_auto_columns": null,
            "margin": null,
            "display": null,
            "left": null
          }
        },
        "6dc8a91954924bbe956849f6e0120a8f": {
          "model_module": "@jupyter-widgets/controls",
          "model_name": "FloatProgressModel",
          "state": {
            "_view_name": "ProgressView",
            "style": "IPY_MODEL_9944ddf540bc4a8c9eb6dc7b627785e3",
            "_dom_classes": [],
            "description": "Downloading: 100%",
            "_model_name": "FloatProgressModel",
            "bar_style": "success",
            "max": 435797,
            "_view_module": "@jupyter-widgets/controls",
            "_model_module_version": "1.5.0",
            "value": 435797,
            "_view_count": null,
            "_view_module_version": "1.5.0",
            "orientation": "horizontal",
            "min": 0,
            "description_tooltip": null,
            "_model_module": "@jupyter-widgets/controls",
            "layout": "IPY_MODEL_c84f658fe8f449f6a339eeffa2386a2a"
          }
        },
        "fe0b8985f9ef4a21a37de06d8ed6e6aa": {
          "model_module": "@jupyter-widgets/controls",
          "model_name": "HTMLModel",
          "state": {
            "_view_name": "HTMLView",
            "style": "IPY_MODEL_2f8d289a742c4fbdb438fc3c7fb6d599",
            "_dom_classes": [],
            "description": "",
            "_model_name": "HTMLModel",
            "placeholder": "​",
            "_view_module": "@jupyter-widgets/controls",
            "_model_module_version": "1.5.0",
            "value": " 436k/436k [00:03&lt;00:00, 134kB/s]",
            "_view_count": null,
            "_view_module_version": "1.5.0",
            "description_tooltip": null,
            "_model_module": "@jupyter-widgets/controls",
            "layout": "IPY_MODEL_ca29c4d091d342ad9bbac73fa76eefce"
          }
        },
        "9944ddf540bc4a8c9eb6dc7b627785e3": {
          "model_module": "@jupyter-widgets/controls",
          "model_name": "ProgressStyleModel",
          "state": {
            "_view_name": "StyleView",
            "_model_name": "ProgressStyleModel",
            "description_width": "initial",
            "_view_module": "@jupyter-widgets/base",
            "_model_module_version": "1.5.0",
            "_view_count": null,
            "_view_module_version": "1.2.0",
            "bar_color": null,
            "_model_module": "@jupyter-widgets/controls"
          }
        },
        "c84f658fe8f449f6a339eeffa2386a2a": {
          "model_module": "@jupyter-widgets/base",
          "model_name": "LayoutModel",
          "state": {
            "_view_name": "LayoutView",
            "grid_template_rows": null,
            "right": null,
            "justify_content": null,
            "_view_module": "@jupyter-widgets/base",
            "overflow": null,
            "_model_module_version": "1.2.0",
            "_view_count": null,
            "flex_flow": null,
            "width": null,
            "min_width": null,
            "border": null,
            "align_items": null,
            "bottom": null,
            "_model_module": "@jupyter-widgets/base",
            "top": null,
            "grid_column": null,
            "overflow_y": null,
            "overflow_x": null,
            "grid_auto_flow": null,
            "grid_area": null,
            "grid_template_columns": null,
            "flex": null,
            "_model_name": "LayoutModel",
            "justify_items": null,
            "grid_row": null,
            "max_height": null,
            "align_content": null,
            "visibility": null,
            "align_self": null,
            "height": null,
            "min_height": null,
            "padding": null,
            "grid_auto_rows": null,
            "grid_gap": null,
            "max_width": null,
            "order": null,
            "_view_module_version": "1.2.0",
            "grid_template_areas": null,
            "object_position": null,
            "object_fit": null,
            "grid_auto_columns": null,
            "margin": null,
            "display": null,
            "left": null
          }
        },
        "2f8d289a742c4fbdb438fc3c7fb6d599": {
          "model_module": "@jupyter-widgets/controls",
          "model_name": "DescriptionStyleModel",
          "state": {
            "_view_name": "StyleView",
            "_model_name": "DescriptionStyleModel",
            "description_width": "",
            "_view_module": "@jupyter-widgets/base",
            "_model_module_version": "1.5.0",
            "_view_count": null,
            "_view_module_version": "1.2.0",
            "_model_module": "@jupyter-widgets/controls"
          }
        },
        "ca29c4d091d342ad9bbac73fa76eefce": {
          "model_module": "@jupyter-widgets/base",
          "model_name": "LayoutModel",
          "state": {
            "_view_name": "LayoutView",
            "grid_template_rows": null,
            "right": null,
            "justify_content": null,
            "_view_module": "@jupyter-widgets/base",
            "overflow": null,
            "_model_module_version": "1.2.0",
            "_view_count": null,
            "flex_flow": null,
            "width": null,
            "min_width": null,
            "border": null,
            "align_items": null,
            "bottom": null,
            "_model_module": "@jupyter-widgets/base",
            "top": null,
            "grid_column": null,
            "overflow_y": null,
            "overflow_x": null,
            "grid_auto_flow": null,
            "grid_area": null,
            "grid_template_columns": null,
            "flex": null,
            "_model_name": "LayoutModel",
            "justify_items": null,
            "grid_row": null,
            "max_height": null,
            "align_content": null,
            "visibility": null,
            "align_self": null,
            "height": null,
            "min_height": null,
            "padding": null,
            "grid_auto_rows": null,
            "grid_gap": null,
            "max_width": null,
            "order": null,
            "_view_module_version": "1.2.0",
            "grid_template_areas": null,
            "object_position": null,
            "object_fit": null,
            "grid_auto_columns": null,
            "margin": null,
            "display": null,
            "left": null
          }
        },
        "dd1b570730ff4b6493584f649e20e069": {
          "model_module": "@jupyter-widgets/controls",
          "model_name": "HBoxModel",
          "state": {
            "_view_name": "HBoxView",
            "_dom_classes": [],
            "_model_name": "HBoxModel",
            "_view_module": "@jupyter-widgets/controls",
            "_model_module_version": "1.5.0",
            "_view_count": null,
            "_view_module_version": "1.5.0",
            "box_style": "",
            "layout": "IPY_MODEL_e401385102404a2980cac7bbddddc446",
            "_model_module": "@jupyter-widgets/controls",
            "children": [
              "IPY_MODEL_ae377e8cf83d4a3fa5729171ac404292",
              "IPY_MODEL_41ab926287b14eab83535252b58e5414"
            ]
          }
        },
        "e401385102404a2980cac7bbddddc446": {
          "model_module": "@jupyter-widgets/base",
          "model_name": "LayoutModel",
          "state": {
            "_view_name": "LayoutView",
            "grid_template_rows": null,
            "right": null,
            "justify_content": null,
            "_view_module": "@jupyter-widgets/base",
            "overflow": null,
            "_model_module_version": "1.2.0",
            "_view_count": null,
            "flex_flow": null,
            "width": null,
            "min_width": null,
            "border": null,
            "align_items": null,
            "bottom": null,
            "_model_module": "@jupyter-widgets/base",
            "top": null,
            "grid_column": null,
            "overflow_y": null,
            "overflow_x": null,
            "grid_auto_flow": null,
            "grid_area": null,
            "grid_template_columns": null,
            "flex": null,
            "_model_name": "LayoutModel",
            "justify_items": null,
            "grid_row": null,
            "max_height": null,
            "align_content": null,
            "visibility": null,
            "align_self": null,
            "height": null,
            "min_height": null,
            "padding": null,
            "grid_auto_rows": null,
            "grid_gap": null,
            "max_width": null,
            "order": null,
            "_view_module_version": "1.2.0",
            "grid_template_areas": null,
            "object_position": null,
            "object_fit": null,
            "grid_auto_columns": null,
            "margin": null,
            "display": null,
            "left": null
          }
        },
        "ae377e8cf83d4a3fa5729171ac404292": {
          "model_module": "@jupyter-widgets/controls",
          "model_name": "FloatProgressModel",
          "state": {
            "_view_name": "ProgressView",
            "style": "IPY_MODEL_567fe5cfed2e46488c8f38712a85f6b4",
            "_dom_classes": [],
            "description": "Downloading: 100%",
            "_model_name": "FloatProgressModel",
            "bar_style": "success",
            "max": 29,
            "_view_module": "@jupyter-widgets/controls",
            "_model_module_version": "1.5.0",
            "value": 29,
            "_view_count": null,
            "_view_module_version": "1.5.0",
            "orientation": "horizontal",
            "min": 0,
            "description_tooltip": null,
            "_model_module": "@jupyter-widgets/controls",
            "layout": "IPY_MODEL_26d44779e51c4804b4d0ff00c394d70b"
          }
        },
        "41ab926287b14eab83535252b58e5414": {
          "model_module": "@jupyter-widgets/controls",
          "model_name": "HTMLModel",
          "state": {
            "_view_name": "HTMLView",
            "style": "IPY_MODEL_7869dc21106b46138e5d18d6accb1df1",
            "_dom_classes": [],
            "description": "",
            "_model_name": "HTMLModel",
            "placeholder": "​",
            "_view_module": "@jupyter-widgets/controls",
            "_model_module_version": "1.5.0",
            "value": " 29.0/29.0 [00:00&lt;00:00, 163B/s]",
            "_view_count": null,
            "_view_module_version": "1.5.0",
            "description_tooltip": null,
            "_model_module": "@jupyter-widgets/controls",
            "layout": "IPY_MODEL_3e14c7cd493b4d3aa931258d5f458cd4"
          }
        },
        "567fe5cfed2e46488c8f38712a85f6b4": {
          "model_module": "@jupyter-widgets/controls",
          "model_name": "ProgressStyleModel",
          "state": {
            "_view_name": "StyleView",
            "_model_name": "ProgressStyleModel",
            "description_width": "initial",
            "_view_module": "@jupyter-widgets/base",
            "_model_module_version": "1.5.0",
            "_view_count": null,
            "_view_module_version": "1.2.0",
            "bar_color": null,
            "_model_module": "@jupyter-widgets/controls"
          }
        },
        "26d44779e51c4804b4d0ff00c394d70b": {
          "model_module": "@jupyter-widgets/base",
          "model_name": "LayoutModel",
          "state": {
            "_view_name": "LayoutView",
            "grid_template_rows": null,
            "right": null,
            "justify_content": null,
            "_view_module": "@jupyter-widgets/base",
            "overflow": null,
            "_model_module_version": "1.2.0",
            "_view_count": null,
            "flex_flow": null,
            "width": null,
            "min_width": null,
            "border": null,
            "align_items": null,
            "bottom": null,
            "_model_module": "@jupyter-widgets/base",
            "top": null,
            "grid_column": null,
            "overflow_y": null,
            "overflow_x": null,
            "grid_auto_flow": null,
            "grid_area": null,
            "grid_template_columns": null,
            "flex": null,
            "_model_name": "LayoutModel",
            "justify_items": null,
            "grid_row": null,
            "max_height": null,
            "align_content": null,
            "visibility": null,
            "align_self": null,
            "height": null,
            "min_height": null,
            "padding": null,
            "grid_auto_rows": null,
            "grid_gap": null,
            "max_width": null,
            "order": null,
            "_view_module_version": "1.2.0",
            "grid_template_areas": null,
            "object_position": null,
            "object_fit": null,
            "grid_auto_columns": null,
            "margin": null,
            "display": null,
            "left": null
          }
        },
        "7869dc21106b46138e5d18d6accb1df1": {
          "model_module": "@jupyter-widgets/controls",
          "model_name": "DescriptionStyleModel",
          "state": {
            "_view_name": "StyleView",
            "_model_name": "DescriptionStyleModel",
            "description_width": "",
            "_view_module": "@jupyter-widgets/base",
            "_model_module_version": "1.5.0",
            "_view_count": null,
            "_view_module_version": "1.2.0",
            "_model_module": "@jupyter-widgets/controls"
          }
        },
        "3e14c7cd493b4d3aa931258d5f458cd4": {
          "model_module": "@jupyter-widgets/base",
          "model_name": "LayoutModel",
          "state": {
            "_view_name": "LayoutView",
            "grid_template_rows": null,
            "right": null,
            "justify_content": null,
            "_view_module": "@jupyter-widgets/base",
            "overflow": null,
            "_model_module_version": "1.2.0",
            "_view_count": null,
            "flex_flow": null,
            "width": null,
            "min_width": null,
            "border": null,
            "align_items": null,
            "bottom": null,
            "_model_module": "@jupyter-widgets/base",
            "top": null,
            "grid_column": null,
            "overflow_y": null,
            "overflow_x": null,
            "grid_auto_flow": null,
            "grid_area": null,
            "grid_template_columns": null,
            "flex": null,
            "_model_name": "LayoutModel",
            "justify_items": null,
            "grid_row": null,
            "max_height": null,
            "align_content": null,
            "visibility": null,
            "align_self": null,
            "height": null,
            "min_height": null,
            "padding": null,
            "grid_auto_rows": null,
            "grid_gap": null,
            "max_width": null,
            "order": null,
            "_view_module_version": "1.2.0",
            "grid_template_areas": null,
            "object_position": null,
            "object_fit": null,
            "grid_auto_columns": null,
            "margin": null,
            "display": null,
            "left": null
          }
        },
        "a8978fe4f6b94a86ae5c08b8a53eff23": {
          "model_module": "@jupyter-widgets/controls",
          "model_name": "HBoxModel",
          "state": {
            "_view_name": "HBoxView",
            "_dom_classes": [],
            "_model_name": "HBoxModel",
            "_view_module": "@jupyter-widgets/controls",
            "_model_module_version": "1.5.0",
            "_view_count": null,
            "_view_module_version": "1.5.0",
            "box_style": "",
            "layout": "IPY_MODEL_89a4f4a3aeda46c3a5e7c5043fed1b98",
            "_model_module": "@jupyter-widgets/controls",
            "children": [
              "IPY_MODEL_bec47a63a6cd43dc96cd33e04be56af1",
              "IPY_MODEL_777297cdf70a4fd29bf3c69447a264f1"
            ]
          }
        },
        "89a4f4a3aeda46c3a5e7c5043fed1b98": {
          "model_module": "@jupyter-widgets/base",
          "model_name": "LayoutModel",
          "state": {
            "_view_name": "LayoutView",
            "grid_template_rows": null,
            "right": null,
            "justify_content": null,
            "_view_module": "@jupyter-widgets/base",
            "overflow": null,
            "_model_module_version": "1.2.0",
            "_view_count": null,
            "flex_flow": null,
            "width": null,
            "min_width": null,
            "border": null,
            "align_items": null,
            "bottom": null,
            "_model_module": "@jupyter-widgets/base",
            "top": null,
            "grid_column": null,
            "overflow_y": null,
            "overflow_x": null,
            "grid_auto_flow": null,
            "grid_area": null,
            "grid_template_columns": null,
            "flex": null,
            "_model_name": "LayoutModel",
            "justify_items": null,
            "grid_row": null,
            "max_height": null,
            "align_content": null,
            "visibility": null,
            "align_self": null,
            "height": null,
            "min_height": null,
            "padding": null,
            "grid_auto_rows": null,
            "grid_gap": null,
            "max_width": null,
            "order": null,
            "_view_module_version": "1.2.0",
            "grid_template_areas": null,
            "object_position": null,
            "object_fit": null,
            "grid_auto_columns": null,
            "margin": null,
            "display": null,
            "left": null
          }
        },
        "bec47a63a6cd43dc96cd33e04be56af1": {
          "model_module": "@jupyter-widgets/controls",
          "model_name": "FloatProgressModel",
          "state": {
            "_view_name": "ProgressView",
            "style": "IPY_MODEL_d324bfbf6e88463fbb2a8391024cad8a",
            "_dom_classes": [],
            "description": "100%",
            "_model_name": "FloatProgressModel",
            "bar_style": "success",
            "max": 5,
            "_view_module": "@jupyter-widgets/controls",
            "_model_module_version": "1.5.0",
            "value": 5,
            "_view_count": null,
            "_view_module_version": "1.5.0",
            "orientation": "horizontal",
            "min": 0,
            "description_tooltip": null,
            "_model_module": "@jupyter-widgets/controls",
            "layout": "IPY_MODEL_4a8ed6b0d521487480068a7b90fd722c"
          }
        },
        "777297cdf70a4fd29bf3c69447a264f1": {
          "model_module": "@jupyter-widgets/controls",
          "model_name": "HTMLModel",
          "state": {
            "_view_name": "HTMLView",
            "style": "IPY_MODEL_11a8c192611c4c03a5e741df54902f99",
            "_dom_classes": [],
            "description": "",
            "_model_name": "HTMLModel",
            "placeholder": "​",
            "_view_module": "@jupyter-widgets/controls",
            "_model_module_version": "1.5.0",
            "value": " 5/5 [00:41&lt;00:00,  8.26s/ba]",
            "_view_count": null,
            "_view_module_version": "1.5.0",
            "description_tooltip": null,
            "_model_module": "@jupyter-widgets/controls",
            "layout": "IPY_MODEL_f3fb423d061e416e9377abee0fee0844"
          }
        },
        "d324bfbf6e88463fbb2a8391024cad8a": {
          "model_module": "@jupyter-widgets/controls",
          "model_name": "ProgressStyleModel",
          "state": {
            "_view_name": "StyleView",
            "_model_name": "ProgressStyleModel",
            "description_width": "initial",
            "_view_module": "@jupyter-widgets/base",
            "_model_module_version": "1.5.0",
            "_view_count": null,
            "_view_module_version": "1.2.0",
            "bar_color": null,
            "_model_module": "@jupyter-widgets/controls"
          }
        },
        "4a8ed6b0d521487480068a7b90fd722c": {
          "model_module": "@jupyter-widgets/base",
          "model_name": "LayoutModel",
          "state": {
            "_view_name": "LayoutView",
            "grid_template_rows": null,
            "right": null,
            "justify_content": null,
            "_view_module": "@jupyter-widgets/base",
            "overflow": null,
            "_model_module_version": "1.2.0",
            "_view_count": null,
            "flex_flow": null,
            "width": null,
            "min_width": null,
            "border": null,
            "align_items": null,
            "bottom": null,
            "_model_module": "@jupyter-widgets/base",
            "top": null,
            "grid_column": null,
            "overflow_y": null,
            "overflow_x": null,
            "grid_auto_flow": null,
            "grid_area": null,
            "grid_template_columns": null,
            "flex": null,
            "_model_name": "LayoutModel",
            "justify_items": null,
            "grid_row": null,
            "max_height": null,
            "align_content": null,
            "visibility": null,
            "align_self": null,
            "height": null,
            "min_height": null,
            "padding": null,
            "grid_auto_rows": null,
            "grid_gap": null,
            "max_width": null,
            "order": null,
            "_view_module_version": "1.2.0",
            "grid_template_areas": null,
            "object_position": null,
            "object_fit": null,
            "grid_auto_columns": null,
            "margin": null,
            "display": null,
            "left": null
          }
        },
        "11a8c192611c4c03a5e741df54902f99": {
          "model_module": "@jupyter-widgets/controls",
          "model_name": "DescriptionStyleModel",
          "state": {
            "_view_name": "StyleView",
            "_model_name": "DescriptionStyleModel",
            "description_width": "",
            "_view_module": "@jupyter-widgets/base",
            "_model_module_version": "1.5.0",
            "_view_count": null,
            "_view_module_version": "1.2.0",
            "_model_module": "@jupyter-widgets/controls"
          }
        },
        "f3fb423d061e416e9377abee0fee0844": {
          "model_module": "@jupyter-widgets/base",
          "model_name": "LayoutModel",
          "state": {
            "_view_name": "LayoutView",
            "grid_template_rows": null,
            "right": null,
            "justify_content": null,
            "_view_module": "@jupyter-widgets/base",
            "overflow": null,
            "_model_module_version": "1.2.0",
            "_view_count": null,
            "flex_flow": null,
            "width": null,
            "min_width": null,
            "border": null,
            "align_items": null,
            "bottom": null,
            "_model_module": "@jupyter-widgets/base",
            "top": null,
            "grid_column": null,
            "overflow_y": null,
            "overflow_x": null,
            "grid_auto_flow": null,
            "grid_area": null,
            "grid_template_columns": null,
            "flex": null,
            "_model_name": "LayoutModel",
            "justify_items": null,
            "grid_row": null,
            "max_height": null,
            "align_content": null,
            "visibility": null,
            "align_self": null,
            "height": null,
            "min_height": null,
            "padding": null,
            "grid_auto_rows": null,
            "grid_gap": null,
            "max_width": null,
            "order": null,
            "_view_module_version": "1.2.0",
            "grid_template_areas": null,
            "object_position": null,
            "object_fit": null,
            "grid_auto_columns": null,
            "margin": null,
            "display": null,
            "left": null
          }
        },
        "66955257d5464659ac7d6b7cecdbd4fe": {
          "model_module": "@jupyter-widgets/controls",
          "model_name": "HBoxModel",
          "state": {
            "_view_name": "HBoxView",
            "_dom_classes": [],
            "_model_name": "HBoxModel",
            "_view_module": "@jupyter-widgets/controls",
            "_model_module_version": "1.5.0",
            "_view_count": null,
            "_view_module_version": "1.5.0",
            "box_style": "",
            "layout": "IPY_MODEL_d9e729d971474c0db887f110745120de",
            "_model_module": "@jupyter-widgets/controls",
            "children": [
              "IPY_MODEL_493b4a9205124222a2e95f1558639467",
              "IPY_MODEL_279ebecf96b64440834bb970d073c8ab"
            ]
          }
        },
        "d9e729d971474c0db887f110745120de": {
          "model_module": "@jupyter-widgets/base",
          "model_name": "LayoutModel",
          "state": {
            "_view_name": "LayoutView",
            "grid_template_rows": null,
            "right": null,
            "justify_content": null,
            "_view_module": "@jupyter-widgets/base",
            "overflow": null,
            "_model_module_version": "1.2.0",
            "_view_count": null,
            "flex_flow": null,
            "width": null,
            "min_width": null,
            "border": null,
            "align_items": null,
            "bottom": null,
            "_model_module": "@jupyter-widgets/base",
            "top": null,
            "grid_column": null,
            "overflow_y": null,
            "overflow_x": null,
            "grid_auto_flow": null,
            "grid_area": null,
            "grid_template_columns": null,
            "flex": null,
            "_model_name": "LayoutModel",
            "justify_items": null,
            "grid_row": null,
            "max_height": null,
            "align_content": null,
            "visibility": null,
            "align_self": null,
            "height": null,
            "min_height": null,
            "padding": null,
            "grid_auto_rows": null,
            "grid_gap": null,
            "max_width": null,
            "order": null,
            "_view_module_version": "1.2.0",
            "grid_template_areas": null,
            "object_position": null,
            "object_fit": null,
            "grid_auto_columns": null,
            "margin": null,
            "display": null,
            "left": null
          }
        },
        "493b4a9205124222a2e95f1558639467": {
          "model_module": "@jupyter-widgets/controls",
          "model_name": "FloatProgressModel",
          "state": {
            "_view_name": "ProgressView",
            "style": "IPY_MODEL_383667f372a546d4aca8a2edd555b040",
            "_dom_classes": [],
            "description": "100%",
            "_model_name": "FloatProgressModel",
            "bar_style": "success",
            "max": 4,
            "_view_module": "@jupyter-widgets/controls",
            "_model_module_version": "1.5.0",
            "value": 4,
            "_view_count": null,
            "_view_module_version": "1.5.0",
            "orientation": "horizontal",
            "min": 0,
            "description_tooltip": null,
            "_model_module": "@jupyter-widgets/controls",
            "layout": "IPY_MODEL_01f83eb0dce142e7be7909ef831b8211"
          }
        },
        "279ebecf96b64440834bb970d073c8ab": {
          "model_module": "@jupyter-widgets/controls",
          "model_name": "HTMLModel",
          "state": {
            "_view_name": "HTMLView",
            "style": "IPY_MODEL_2fced378e0a04985a7c031654abe2c69",
            "_dom_classes": [],
            "description": "",
            "_model_name": "HTMLModel",
            "placeholder": "​",
            "_view_module": "@jupyter-widgets/controls",
            "_model_module_version": "1.5.0",
            "value": " 4/4 [00:17&lt;00:00,  4.26s/ba]",
            "_view_count": null,
            "_view_module_version": "1.5.0",
            "description_tooltip": null,
            "_model_module": "@jupyter-widgets/controls",
            "layout": "IPY_MODEL_271cd25fa6c64ed194a147ab2cf56b7c"
          }
        },
        "383667f372a546d4aca8a2edd555b040": {
          "model_module": "@jupyter-widgets/controls",
          "model_name": "ProgressStyleModel",
          "state": {
            "_view_name": "StyleView",
            "_model_name": "ProgressStyleModel",
            "description_width": "initial",
            "_view_module": "@jupyter-widgets/base",
            "_model_module_version": "1.5.0",
            "_view_count": null,
            "_view_module_version": "1.2.0",
            "bar_color": null,
            "_model_module": "@jupyter-widgets/controls"
          }
        },
        "01f83eb0dce142e7be7909ef831b8211": {
          "model_module": "@jupyter-widgets/base",
          "model_name": "LayoutModel",
          "state": {
            "_view_name": "LayoutView",
            "grid_template_rows": null,
            "right": null,
            "justify_content": null,
            "_view_module": "@jupyter-widgets/base",
            "overflow": null,
            "_model_module_version": "1.2.0",
            "_view_count": null,
            "flex_flow": null,
            "width": null,
            "min_width": null,
            "border": null,
            "align_items": null,
            "bottom": null,
            "_model_module": "@jupyter-widgets/base",
            "top": null,
            "grid_column": null,
            "overflow_y": null,
            "overflow_x": null,
            "grid_auto_flow": null,
            "grid_area": null,
            "grid_template_columns": null,
            "flex": null,
            "_model_name": "LayoutModel",
            "justify_items": null,
            "grid_row": null,
            "max_height": null,
            "align_content": null,
            "visibility": null,
            "align_self": null,
            "height": null,
            "min_height": null,
            "padding": null,
            "grid_auto_rows": null,
            "grid_gap": null,
            "max_width": null,
            "order": null,
            "_view_module_version": "1.2.0",
            "grid_template_areas": null,
            "object_position": null,
            "object_fit": null,
            "grid_auto_columns": null,
            "margin": null,
            "display": null,
            "left": null
          }
        },
        "2fced378e0a04985a7c031654abe2c69": {
          "model_module": "@jupyter-widgets/controls",
          "model_name": "DescriptionStyleModel",
          "state": {
            "_view_name": "StyleView",
            "_model_name": "DescriptionStyleModel",
            "description_width": "",
            "_view_module": "@jupyter-widgets/base",
            "_model_module_version": "1.5.0",
            "_view_count": null,
            "_view_module_version": "1.2.0",
            "_model_module": "@jupyter-widgets/controls"
          }
        },
        "271cd25fa6c64ed194a147ab2cf56b7c": {
          "model_module": "@jupyter-widgets/base",
          "model_name": "LayoutModel",
          "state": {
            "_view_name": "LayoutView",
            "grid_template_rows": null,
            "right": null,
            "justify_content": null,
            "_view_module": "@jupyter-widgets/base",
            "overflow": null,
            "_model_module_version": "1.2.0",
            "_view_count": null,
            "flex_flow": null,
            "width": null,
            "min_width": null,
            "border": null,
            "align_items": null,
            "bottom": null,
            "_model_module": "@jupyter-widgets/base",
            "top": null,
            "grid_column": null,
            "overflow_y": null,
            "overflow_x": null,
            "grid_auto_flow": null,
            "grid_area": null,
            "grid_template_columns": null,
            "flex": null,
            "_model_name": "LayoutModel",
            "justify_items": null,
            "grid_row": null,
            "max_height": null,
            "align_content": null,
            "visibility": null,
            "align_self": null,
            "height": null,
            "min_height": null,
            "padding": null,
            "grid_auto_rows": null,
            "grid_gap": null,
            "max_width": null,
            "order": null,
            "_view_module_version": "1.2.0",
            "grid_template_areas": null,
            "object_position": null,
            "object_fit": null,
            "grid_auto_columns": null,
            "margin": null,
            "display": null,
            "left": null
          }
        },
        "d244ece24fb642c7834389b032c0584a": {
          "model_module": "@jupyter-widgets/controls",
          "model_name": "HBoxModel",
          "state": {
            "_view_name": "HBoxView",
            "_dom_classes": [],
            "_model_name": "HBoxModel",
            "_view_module": "@jupyter-widgets/controls",
            "_model_module_version": "1.5.0",
            "_view_count": null,
            "_view_module_version": "1.5.0",
            "box_style": "",
            "layout": "IPY_MODEL_a175fe62f2bb43ce81e05f6d28f328e3",
            "_model_module": "@jupyter-widgets/controls",
            "children": [
              "IPY_MODEL_d7d9d03282f7448da2374bac5432cc96",
              "IPY_MODEL_ee7d5f8c995c40a2b485df1c1d9e034b"
            ]
          }
        },
        "a175fe62f2bb43ce81e05f6d28f328e3": {
          "model_module": "@jupyter-widgets/base",
          "model_name": "LayoutModel",
          "state": {
            "_view_name": "LayoutView",
            "grid_template_rows": null,
            "right": null,
            "justify_content": null,
            "_view_module": "@jupyter-widgets/base",
            "overflow": null,
            "_model_module_version": "1.2.0",
            "_view_count": null,
            "flex_flow": null,
            "width": null,
            "min_width": null,
            "border": null,
            "align_items": null,
            "bottom": null,
            "_model_module": "@jupyter-widgets/base",
            "top": null,
            "grid_column": null,
            "overflow_y": null,
            "overflow_x": null,
            "grid_auto_flow": null,
            "grid_area": null,
            "grid_template_columns": null,
            "flex": null,
            "_model_name": "LayoutModel",
            "justify_items": null,
            "grid_row": null,
            "max_height": null,
            "align_content": null,
            "visibility": null,
            "align_self": null,
            "height": null,
            "min_height": null,
            "padding": null,
            "grid_auto_rows": null,
            "grid_gap": null,
            "max_width": null,
            "order": null,
            "_view_module_version": "1.2.0",
            "grid_template_areas": null,
            "object_position": null,
            "object_fit": null,
            "grid_auto_columns": null,
            "margin": null,
            "display": null,
            "left": null
          }
        },
        "d7d9d03282f7448da2374bac5432cc96": {
          "model_module": "@jupyter-widgets/controls",
          "model_name": "FloatProgressModel",
          "state": {
            "_view_name": "ProgressView",
            "style": "IPY_MODEL_27aa43ce9f3d4601921e66675fad764e",
            "_dom_classes": [],
            "description": "100%",
            "_model_name": "FloatProgressModel",
            "bar_style": "success",
            "max": 1,
            "_view_module": "@jupyter-widgets/controls",
            "_model_module_version": "1.5.0",
            "value": 1,
            "_view_count": null,
            "_view_module_version": "1.5.0",
            "orientation": "horizontal",
            "min": 0,
            "description_tooltip": null,
            "_model_module": "@jupyter-widgets/controls",
            "layout": "IPY_MODEL_b4eb21cadb024f57bfa454032aedae58"
          }
        },
        "ee7d5f8c995c40a2b485df1c1d9e034b": {
          "model_module": "@jupyter-widgets/controls",
          "model_name": "HTMLModel",
          "state": {
            "_view_name": "HTMLView",
            "style": "IPY_MODEL_748bc18600f6408faa0f83740323cced",
            "_dom_classes": [],
            "description": "",
            "_model_name": "HTMLModel",
            "placeholder": "​",
            "_view_module": "@jupyter-widgets/controls",
            "_model_module_version": "1.5.0",
            "value": " 1/1 [00:16&lt;00:00, 16.07s/ba]",
            "_view_count": null,
            "_view_module_version": "1.5.0",
            "description_tooltip": null,
            "_model_module": "@jupyter-widgets/controls",
            "layout": "IPY_MODEL_269b903541f6426e85f42335d6908b34"
          }
        },
        "27aa43ce9f3d4601921e66675fad764e": {
          "model_module": "@jupyter-widgets/controls",
          "model_name": "ProgressStyleModel",
          "state": {
            "_view_name": "StyleView",
            "_model_name": "ProgressStyleModel",
            "description_width": "initial",
            "_view_module": "@jupyter-widgets/base",
            "_model_module_version": "1.5.0",
            "_view_count": null,
            "_view_module_version": "1.2.0",
            "bar_color": null,
            "_model_module": "@jupyter-widgets/controls"
          }
        },
        "b4eb21cadb024f57bfa454032aedae58": {
          "model_module": "@jupyter-widgets/base",
          "model_name": "LayoutModel",
          "state": {
            "_view_name": "LayoutView",
            "grid_template_rows": null,
            "right": null,
            "justify_content": null,
            "_view_module": "@jupyter-widgets/base",
            "overflow": null,
            "_model_module_version": "1.2.0",
            "_view_count": null,
            "flex_flow": null,
            "width": null,
            "min_width": null,
            "border": null,
            "align_items": null,
            "bottom": null,
            "_model_module": "@jupyter-widgets/base",
            "top": null,
            "grid_column": null,
            "overflow_y": null,
            "overflow_x": null,
            "grid_auto_flow": null,
            "grid_area": null,
            "grid_template_columns": null,
            "flex": null,
            "_model_name": "LayoutModel",
            "justify_items": null,
            "grid_row": null,
            "max_height": null,
            "align_content": null,
            "visibility": null,
            "align_self": null,
            "height": null,
            "min_height": null,
            "padding": null,
            "grid_auto_rows": null,
            "grid_gap": null,
            "max_width": null,
            "order": null,
            "_view_module_version": "1.2.0",
            "grid_template_areas": null,
            "object_position": null,
            "object_fit": null,
            "grid_auto_columns": null,
            "margin": null,
            "display": null,
            "left": null
          }
        },
        "748bc18600f6408faa0f83740323cced": {
          "model_module": "@jupyter-widgets/controls",
          "model_name": "DescriptionStyleModel",
          "state": {
            "_view_name": "StyleView",
            "_model_name": "DescriptionStyleModel",
            "description_width": "",
            "_view_module": "@jupyter-widgets/base",
            "_model_module_version": "1.5.0",
            "_view_count": null,
            "_view_module_version": "1.2.0",
            "_model_module": "@jupyter-widgets/controls"
          }
        },
        "269b903541f6426e85f42335d6908b34": {
          "model_module": "@jupyter-widgets/base",
          "model_name": "LayoutModel",
          "state": {
            "_view_name": "LayoutView",
            "grid_template_rows": null,
            "right": null,
            "justify_content": null,
            "_view_module": "@jupyter-widgets/base",
            "overflow": null,
            "_model_module_version": "1.2.0",
            "_view_count": null,
            "flex_flow": null,
            "width": null,
            "min_width": null,
            "border": null,
            "align_items": null,
            "bottom": null,
            "_model_module": "@jupyter-widgets/base",
            "top": null,
            "grid_column": null,
            "overflow_y": null,
            "overflow_x": null,
            "grid_auto_flow": null,
            "grid_area": null,
            "grid_template_columns": null,
            "flex": null,
            "_model_name": "LayoutModel",
            "justify_items": null,
            "grid_row": null,
            "max_height": null,
            "align_content": null,
            "visibility": null,
            "align_self": null,
            "height": null,
            "min_height": null,
            "padding": null,
            "grid_auto_rows": null,
            "grid_gap": null,
            "max_width": null,
            "order": null,
            "_view_module_version": "1.2.0",
            "grid_template_areas": null,
            "object_position": null,
            "object_fit": null,
            "grid_auto_columns": null,
            "margin": null,
            "display": null,
            "left": null
          }
        },
        "76284178c68642d38e29bd293ec5552d": {
          "model_module": "@jupyter-widgets/controls",
          "model_name": "HBoxModel",
          "state": {
            "_view_name": "HBoxView",
            "_dom_classes": [],
            "_model_name": "HBoxModel",
            "_view_module": "@jupyter-widgets/controls",
            "_model_module_version": "1.5.0",
            "_view_count": null,
            "_view_module_version": "1.5.0",
            "box_style": "",
            "layout": "IPY_MODEL_825eff3073c14498be56516168fd61d9",
            "_model_module": "@jupyter-widgets/controls",
            "children": [
              "IPY_MODEL_9bcb31ac2bc247c4bd26abe575e625c2",
              "IPY_MODEL_cff683ab8b3241a6808034dd2445102d"
            ]
          }
        },
        "825eff3073c14498be56516168fd61d9": {
          "model_module": "@jupyter-widgets/base",
          "model_name": "LayoutModel",
          "state": {
            "_view_name": "LayoutView",
            "grid_template_rows": null,
            "right": null,
            "justify_content": null,
            "_view_module": "@jupyter-widgets/base",
            "overflow": null,
            "_model_module_version": "1.2.0",
            "_view_count": null,
            "flex_flow": null,
            "width": null,
            "min_width": null,
            "border": null,
            "align_items": null,
            "bottom": null,
            "_model_module": "@jupyter-widgets/base",
            "top": null,
            "grid_column": null,
            "overflow_y": null,
            "overflow_x": null,
            "grid_auto_flow": null,
            "grid_area": null,
            "grid_template_columns": null,
            "flex": null,
            "_model_name": "LayoutModel",
            "justify_items": null,
            "grid_row": null,
            "max_height": null,
            "align_content": null,
            "visibility": null,
            "align_self": null,
            "height": null,
            "min_height": null,
            "padding": null,
            "grid_auto_rows": null,
            "grid_gap": null,
            "max_width": null,
            "order": null,
            "_view_module_version": "1.2.0",
            "grid_template_areas": null,
            "object_position": null,
            "object_fit": null,
            "grid_auto_columns": null,
            "margin": null,
            "display": null,
            "left": null
          }
        },
        "9bcb31ac2bc247c4bd26abe575e625c2": {
          "model_module": "@jupyter-widgets/controls",
          "model_name": "FloatProgressModel",
          "state": {
            "_view_name": "ProgressView",
            "style": "IPY_MODEL_e0cc66d09c07492095d554ba07900c2b",
            "_dom_classes": [],
            "description": "100%",
            "_model_name": "FloatProgressModel",
            "bar_style": "success",
            "max": 1,
            "_view_module": "@jupyter-widgets/controls",
            "_model_module_version": "1.5.0",
            "value": 1,
            "_view_count": null,
            "_view_module_version": "1.5.0",
            "orientation": "horizontal",
            "min": 0,
            "description_tooltip": null,
            "_model_module": "@jupyter-widgets/controls",
            "layout": "IPY_MODEL_e4e2ff19697d47c49d812f33aa5adcc8"
          }
        },
        "cff683ab8b3241a6808034dd2445102d": {
          "model_module": "@jupyter-widgets/controls",
          "model_name": "HTMLModel",
          "state": {
            "_view_name": "HTMLView",
            "style": "IPY_MODEL_4061072937e34a059c1e2864578490cf",
            "_dom_classes": [],
            "description": "",
            "_model_name": "HTMLModel",
            "placeholder": "​",
            "_view_module": "@jupyter-widgets/controls",
            "_model_module_version": "1.5.0",
            "value": " 1/1 [00:15&lt;00:00, 15.90s/ba]",
            "_view_count": null,
            "_view_module_version": "1.5.0",
            "description_tooltip": null,
            "_model_module": "@jupyter-widgets/controls",
            "layout": "IPY_MODEL_779daed000ab48fd84a3b980bedb576a"
          }
        },
        "e0cc66d09c07492095d554ba07900c2b": {
          "model_module": "@jupyter-widgets/controls",
          "model_name": "ProgressStyleModel",
          "state": {
            "_view_name": "StyleView",
            "_model_name": "ProgressStyleModel",
            "description_width": "initial",
            "_view_module": "@jupyter-widgets/base",
            "_model_module_version": "1.5.0",
            "_view_count": null,
            "_view_module_version": "1.2.0",
            "bar_color": null,
            "_model_module": "@jupyter-widgets/controls"
          }
        },
        "e4e2ff19697d47c49d812f33aa5adcc8": {
          "model_module": "@jupyter-widgets/base",
          "model_name": "LayoutModel",
          "state": {
            "_view_name": "LayoutView",
            "grid_template_rows": null,
            "right": null,
            "justify_content": null,
            "_view_module": "@jupyter-widgets/base",
            "overflow": null,
            "_model_module_version": "1.2.0",
            "_view_count": null,
            "flex_flow": null,
            "width": null,
            "min_width": null,
            "border": null,
            "align_items": null,
            "bottom": null,
            "_model_module": "@jupyter-widgets/base",
            "top": null,
            "grid_column": null,
            "overflow_y": null,
            "overflow_x": null,
            "grid_auto_flow": null,
            "grid_area": null,
            "grid_template_columns": null,
            "flex": null,
            "_model_name": "LayoutModel",
            "justify_items": null,
            "grid_row": null,
            "max_height": null,
            "align_content": null,
            "visibility": null,
            "align_self": null,
            "height": null,
            "min_height": null,
            "padding": null,
            "grid_auto_rows": null,
            "grid_gap": null,
            "max_width": null,
            "order": null,
            "_view_module_version": "1.2.0",
            "grid_template_areas": null,
            "object_position": null,
            "object_fit": null,
            "grid_auto_columns": null,
            "margin": null,
            "display": null,
            "left": null
          }
        },
        "4061072937e34a059c1e2864578490cf": {
          "model_module": "@jupyter-widgets/controls",
          "model_name": "DescriptionStyleModel",
          "state": {
            "_view_name": "StyleView",
            "_model_name": "DescriptionStyleModel",
            "description_width": "",
            "_view_module": "@jupyter-widgets/base",
            "_model_module_version": "1.5.0",
            "_view_count": null,
            "_view_module_version": "1.2.0",
            "_model_module": "@jupyter-widgets/controls"
          }
        },
        "779daed000ab48fd84a3b980bedb576a": {
          "model_module": "@jupyter-widgets/base",
          "model_name": "LayoutModel",
          "state": {
            "_view_name": "LayoutView",
            "grid_template_rows": null,
            "right": null,
            "justify_content": null,
            "_view_module": "@jupyter-widgets/base",
            "overflow": null,
            "_model_module_version": "1.2.0",
            "_view_count": null,
            "flex_flow": null,
            "width": null,
            "min_width": null,
            "border": null,
            "align_items": null,
            "bottom": null,
            "_model_module": "@jupyter-widgets/base",
            "top": null,
            "grid_column": null,
            "overflow_y": null,
            "overflow_x": null,
            "grid_auto_flow": null,
            "grid_area": null,
            "grid_template_columns": null,
            "flex": null,
            "_model_name": "LayoutModel",
            "justify_items": null,
            "grid_row": null,
            "max_height": null,
            "align_content": null,
            "visibility": null,
            "align_self": null,
            "height": null,
            "min_height": null,
            "padding": null,
            "grid_auto_rows": null,
            "grid_gap": null,
            "max_width": null,
            "order": null,
            "_view_module_version": "1.2.0",
            "grid_template_areas": null,
            "object_position": null,
            "object_fit": null,
            "grid_auto_columns": null,
            "margin": null,
            "display": null,
            "left": null
          }
        },
        "18df49c043fa4ac8afdb6bf44592a6de": {
          "model_module": "@jupyter-widgets/controls",
          "model_name": "HBoxModel",
          "state": {
            "_view_name": "HBoxView",
            "_dom_classes": [],
            "_model_name": "HBoxModel",
            "_view_module": "@jupyter-widgets/controls",
            "_model_module_version": "1.5.0",
            "_view_count": null,
            "_view_module_version": "1.5.0",
            "box_style": "",
            "layout": "IPY_MODEL_f3f56d699d83460686bfe86f4a54a459",
            "_model_module": "@jupyter-widgets/controls",
            "children": [
              "IPY_MODEL_73b0e85f5f8d430daa7885a1cc2bd225",
              "IPY_MODEL_60ef96beefe44f938b82370bbe1e27f4"
            ]
          }
        },
        "f3f56d699d83460686bfe86f4a54a459": {
          "model_module": "@jupyter-widgets/base",
          "model_name": "LayoutModel",
          "state": {
            "_view_name": "LayoutView",
            "grid_template_rows": null,
            "right": null,
            "justify_content": null,
            "_view_module": "@jupyter-widgets/base",
            "overflow": null,
            "_model_module_version": "1.2.0",
            "_view_count": null,
            "flex_flow": null,
            "width": null,
            "min_width": null,
            "border": null,
            "align_items": null,
            "bottom": null,
            "_model_module": "@jupyter-widgets/base",
            "top": null,
            "grid_column": null,
            "overflow_y": null,
            "overflow_x": null,
            "grid_auto_flow": null,
            "grid_area": null,
            "grid_template_columns": null,
            "flex": null,
            "_model_name": "LayoutModel",
            "justify_items": null,
            "grid_row": null,
            "max_height": null,
            "align_content": null,
            "visibility": null,
            "align_self": null,
            "height": null,
            "min_height": null,
            "padding": null,
            "grid_auto_rows": null,
            "grid_gap": null,
            "max_width": null,
            "order": null,
            "_view_module_version": "1.2.0",
            "grid_template_areas": null,
            "object_position": null,
            "object_fit": null,
            "grid_auto_columns": null,
            "margin": null,
            "display": null,
            "left": null
          }
        },
        "73b0e85f5f8d430daa7885a1cc2bd225": {
          "model_module": "@jupyter-widgets/controls",
          "model_name": "FloatProgressModel",
          "state": {
            "_view_name": "ProgressView",
            "style": "IPY_MODEL_054184eb076d4d1fb97ddb74936d25d5",
            "_dom_classes": [],
            "description": "Downloading: 100%",
            "_model_name": "FloatProgressModel",
            "bar_style": "success",
            "max": 433,
            "_view_module": "@jupyter-widgets/controls",
            "_model_module_version": "1.5.0",
            "value": 433,
            "_view_count": null,
            "_view_module_version": "1.5.0",
            "orientation": "horizontal",
            "min": 0,
            "description_tooltip": null,
            "_model_module": "@jupyter-widgets/controls",
            "layout": "IPY_MODEL_2ea56506bebd4e529910ec0a9c167293"
          }
        },
        "60ef96beefe44f938b82370bbe1e27f4": {
          "model_module": "@jupyter-widgets/controls",
          "model_name": "HTMLModel",
          "state": {
            "_view_name": "HTMLView",
            "style": "IPY_MODEL_bf7255bd01894c0aa0e0ede89ad2ad81",
            "_dom_classes": [],
            "description": "",
            "_model_name": "HTMLModel",
            "placeholder": "​",
            "_view_module": "@jupyter-widgets/controls",
            "_model_module_version": "1.5.0",
            "value": " 433/433 [00:00&lt;00:00, 3.02kB/s]",
            "_view_count": null,
            "_view_module_version": "1.5.0",
            "description_tooltip": null,
            "_model_module": "@jupyter-widgets/controls",
            "layout": "IPY_MODEL_ccdc1eb68ae3443a90cad7cfd7db44a3"
          }
        },
        "054184eb076d4d1fb97ddb74936d25d5": {
          "model_module": "@jupyter-widgets/controls",
          "model_name": "ProgressStyleModel",
          "state": {
            "_view_name": "StyleView",
            "_model_name": "ProgressStyleModel",
            "description_width": "initial",
            "_view_module": "@jupyter-widgets/base",
            "_model_module_version": "1.5.0",
            "_view_count": null,
            "_view_module_version": "1.2.0",
            "bar_color": null,
            "_model_module": "@jupyter-widgets/controls"
          }
        },
        "2ea56506bebd4e529910ec0a9c167293": {
          "model_module": "@jupyter-widgets/base",
          "model_name": "LayoutModel",
          "state": {
            "_view_name": "LayoutView",
            "grid_template_rows": null,
            "right": null,
            "justify_content": null,
            "_view_module": "@jupyter-widgets/base",
            "overflow": null,
            "_model_module_version": "1.2.0",
            "_view_count": null,
            "flex_flow": null,
            "width": null,
            "min_width": null,
            "border": null,
            "align_items": null,
            "bottom": null,
            "_model_module": "@jupyter-widgets/base",
            "top": null,
            "grid_column": null,
            "overflow_y": null,
            "overflow_x": null,
            "grid_auto_flow": null,
            "grid_area": null,
            "grid_template_columns": null,
            "flex": null,
            "_model_name": "LayoutModel",
            "justify_items": null,
            "grid_row": null,
            "max_height": null,
            "align_content": null,
            "visibility": null,
            "align_self": null,
            "height": null,
            "min_height": null,
            "padding": null,
            "grid_auto_rows": null,
            "grid_gap": null,
            "max_width": null,
            "order": null,
            "_view_module_version": "1.2.0",
            "grid_template_areas": null,
            "object_position": null,
            "object_fit": null,
            "grid_auto_columns": null,
            "margin": null,
            "display": null,
            "left": null
          }
        },
        "bf7255bd01894c0aa0e0ede89ad2ad81": {
          "model_module": "@jupyter-widgets/controls",
          "model_name": "DescriptionStyleModel",
          "state": {
            "_view_name": "StyleView",
            "_model_name": "DescriptionStyleModel",
            "description_width": "",
            "_view_module": "@jupyter-widgets/base",
            "_model_module_version": "1.5.0",
            "_view_count": null,
            "_view_module_version": "1.2.0",
            "_model_module": "@jupyter-widgets/controls"
          }
        },
        "ccdc1eb68ae3443a90cad7cfd7db44a3": {
          "model_module": "@jupyter-widgets/base",
          "model_name": "LayoutModel",
          "state": {
            "_view_name": "LayoutView",
            "grid_template_rows": null,
            "right": null,
            "justify_content": null,
            "_view_module": "@jupyter-widgets/base",
            "overflow": null,
            "_model_module_version": "1.2.0",
            "_view_count": null,
            "flex_flow": null,
            "width": null,
            "min_width": null,
            "border": null,
            "align_items": null,
            "bottom": null,
            "_model_module": "@jupyter-widgets/base",
            "top": null,
            "grid_column": null,
            "overflow_y": null,
            "overflow_x": null,
            "grid_auto_flow": null,
            "grid_area": null,
            "grid_template_columns": null,
            "flex": null,
            "_model_name": "LayoutModel",
            "justify_items": null,
            "grid_row": null,
            "max_height": null,
            "align_content": null,
            "visibility": null,
            "align_self": null,
            "height": null,
            "min_height": null,
            "padding": null,
            "grid_auto_rows": null,
            "grid_gap": null,
            "max_width": null,
            "order": null,
            "_view_module_version": "1.2.0",
            "grid_template_areas": null,
            "object_position": null,
            "object_fit": null,
            "grid_auto_columns": null,
            "margin": null,
            "display": null,
            "left": null
          }
        },
        "2147e4f232954952998bd2c882abdb26": {
          "model_module": "@jupyter-widgets/controls",
          "model_name": "HBoxModel",
          "state": {
            "_view_name": "HBoxView",
            "_dom_classes": [],
            "_model_name": "HBoxModel",
            "_view_module": "@jupyter-widgets/controls",
            "_model_module_version": "1.5.0",
            "_view_count": null,
            "_view_module_version": "1.5.0",
            "box_style": "",
            "layout": "IPY_MODEL_fb8c7e1ce1ab4a46a2b0ef1d5abf5fc8",
            "_model_module": "@jupyter-widgets/controls",
            "children": [
              "IPY_MODEL_979693f1cf42480693472fd06288b450",
              "IPY_MODEL_26b6fbd5be4843af88e7849a8c6a78de"
            ]
          }
        },
        "fb8c7e1ce1ab4a46a2b0ef1d5abf5fc8": {
          "model_module": "@jupyter-widgets/base",
          "model_name": "LayoutModel",
          "state": {
            "_view_name": "LayoutView",
            "grid_template_rows": null,
            "right": null,
            "justify_content": null,
            "_view_module": "@jupyter-widgets/base",
            "overflow": null,
            "_model_module_version": "1.2.0",
            "_view_count": null,
            "flex_flow": null,
            "width": null,
            "min_width": null,
            "border": null,
            "align_items": null,
            "bottom": null,
            "_model_module": "@jupyter-widgets/base",
            "top": null,
            "grid_column": null,
            "overflow_y": null,
            "overflow_x": null,
            "grid_auto_flow": null,
            "grid_area": null,
            "grid_template_columns": null,
            "flex": null,
            "_model_name": "LayoutModel",
            "justify_items": null,
            "grid_row": null,
            "max_height": null,
            "align_content": null,
            "visibility": null,
            "align_self": null,
            "height": null,
            "min_height": null,
            "padding": null,
            "grid_auto_rows": null,
            "grid_gap": null,
            "max_width": null,
            "order": null,
            "_view_module_version": "1.2.0",
            "grid_template_areas": null,
            "object_position": null,
            "object_fit": null,
            "grid_auto_columns": null,
            "margin": null,
            "display": null,
            "left": null
          }
        },
        "979693f1cf42480693472fd06288b450": {
          "model_module": "@jupyter-widgets/controls",
          "model_name": "FloatProgressModel",
          "state": {
            "_view_name": "ProgressView",
            "style": "IPY_MODEL_735efb1c04884b84a664d030225f8d50",
            "_dom_classes": [],
            "description": "Downloading: 100%",
            "_model_name": "FloatProgressModel",
            "bar_style": "success",
            "max": 435779157,
            "_view_module": "@jupyter-widgets/controls",
            "_model_module_version": "1.5.0",
            "value": 435779157,
            "_view_count": null,
            "_view_module_version": "1.5.0",
            "orientation": "horizontal",
            "min": 0,
            "description_tooltip": null,
            "_model_module": "@jupyter-widgets/controls",
            "layout": "IPY_MODEL_89754124b4b24817843f4261627d90f3"
          }
        },
        "26b6fbd5be4843af88e7849a8c6a78de": {
          "model_module": "@jupyter-widgets/controls",
          "model_name": "HTMLModel",
          "state": {
            "_view_name": "HTMLView",
            "style": "IPY_MODEL_53ac71c148844576b4a376501dc02a83",
            "_dom_classes": [],
            "description": "",
            "_model_name": "HTMLModel",
            "placeholder": "​",
            "_view_module": "@jupyter-widgets/controls",
            "_model_module_version": "1.5.0",
            "value": " 436M/436M [00:11&lt;00:00, 38.8MB/s]",
            "_view_count": null,
            "_view_module_version": "1.5.0",
            "description_tooltip": null,
            "_model_module": "@jupyter-widgets/controls",
            "layout": "IPY_MODEL_8c8cc7cc932b437e807b1c77df01cae4"
          }
        },
        "735efb1c04884b84a664d030225f8d50": {
          "model_module": "@jupyter-widgets/controls",
          "model_name": "ProgressStyleModel",
          "state": {
            "_view_name": "StyleView",
            "_model_name": "ProgressStyleModel",
            "description_width": "initial",
            "_view_module": "@jupyter-widgets/base",
            "_model_module_version": "1.5.0",
            "_view_count": null,
            "_view_module_version": "1.2.0",
            "bar_color": null,
            "_model_module": "@jupyter-widgets/controls"
          }
        },
        "89754124b4b24817843f4261627d90f3": {
          "model_module": "@jupyter-widgets/base",
          "model_name": "LayoutModel",
          "state": {
            "_view_name": "LayoutView",
            "grid_template_rows": null,
            "right": null,
            "justify_content": null,
            "_view_module": "@jupyter-widgets/base",
            "overflow": null,
            "_model_module_version": "1.2.0",
            "_view_count": null,
            "flex_flow": null,
            "width": null,
            "min_width": null,
            "border": null,
            "align_items": null,
            "bottom": null,
            "_model_module": "@jupyter-widgets/base",
            "top": null,
            "grid_column": null,
            "overflow_y": null,
            "overflow_x": null,
            "grid_auto_flow": null,
            "grid_area": null,
            "grid_template_columns": null,
            "flex": null,
            "_model_name": "LayoutModel",
            "justify_items": null,
            "grid_row": null,
            "max_height": null,
            "align_content": null,
            "visibility": null,
            "align_self": null,
            "height": null,
            "min_height": null,
            "padding": null,
            "grid_auto_rows": null,
            "grid_gap": null,
            "max_width": null,
            "order": null,
            "_view_module_version": "1.2.0",
            "grid_template_areas": null,
            "object_position": null,
            "object_fit": null,
            "grid_auto_columns": null,
            "margin": null,
            "display": null,
            "left": null
          }
        },
        "53ac71c148844576b4a376501dc02a83": {
          "model_module": "@jupyter-widgets/controls",
          "model_name": "DescriptionStyleModel",
          "state": {
            "_view_name": "StyleView",
            "_model_name": "DescriptionStyleModel",
            "description_width": "",
            "_view_module": "@jupyter-widgets/base",
            "_model_module_version": "1.5.0",
            "_view_count": null,
            "_view_module_version": "1.2.0",
            "_model_module": "@jupyter-widgets/controls"
          }
        },
        "8c8cc7cc932b437e807b1c77df01cae4": {
          "model_module": "@jupyter-widgets/base",
          "model_name": "LayoutModel",
          "state": {
            "_view_name": "LayoutView",
            "grid_template_rows": null,
            "right": null,
            "justify_content": null,
            "_view_module": "@jupyter-widgets/base",
            "overflow": null,
            "_model_module_version": "1.2.0",
            "_view_count": null,
            "flex_flow": null,
            "width": null,
            "min_width": null,
            "border": null,
            "align_items": null,
            "bottom": null,
            "_model_module": "@jupyter-widgets/base",
            "top": null,
            "grid_column": null,
            "overflow_y": null,
            "overflow_x": null,
            "grid_auto_flow": null,
            "grid_area": null,
            "grid_template_columns": null,
            "flex": null,
            "_model_name": "LayoutModel",
            "justify_items": null,
            "grid_row": null,
            "max_height": null,
            "align_content": null,
            "visibility": null,
            "align_self": null,
            "height": null,
            "min_height": null,
            "padding": null,
            "grid_auto_rows": null,
            "grid_gap": null,
            "max_width": null,
            "order": null,
            "_view_module_version": "1.2.0",
            "grid_template_areas": null,
            "object_position": null,
            "object_fit": null,
            "grid_auto_columns": null,
            "margin": null,
            "display": null,
            "left": null
          }
        },
        "f08e8af3d7e648cebd024d99a505e11b": {
          "model_module": "@jupyter-widgets/controls",
          "model_name": "HBoxModel",
          "state": {
            "_view_name": "HBoxView",
            "_dom_classes": [],
            "_model_name": "HBoxModel",
            "_view_module": "@jupyter-widgets/controls",
            "_model_module_version": "1.5.0",
            "_view_count": null,
            "_view_module_version": "1.5.0",
            "box_style": "",
            "layout": "IPY_MODEL_8be01d08cb884758baf02e5a05c58fe7",
            "_model_module": "@jupyter-widgets/controls",
            "children": [
              "IPY_MODEL_e82c54b2d26742ada9efa49dd0df8cc1",
              "IPY_MODEL_c78f3d811f5842c0bb450f05c299a547"
            ]
          }
        },
        "8be01d08cb884758baf02e5a05c58fe7": {
          "model_module": "@jupyter-widgets/base",
          "model_name": "LayoutModel",
          "state": {
            "_view_name": "LayoutView",
            "grid_template_rows": null,
            "right": null,
            "justify_content": null,
            "_view_module": "@jupyter-widgets/base",
            "overflow": null,
            "_model_module_version": "1.2.0",
            "_view_count": null,
            "flex_flow": null,
            "width": null,
            "min_width": null,
            "border": null,
            "align_items": null,
            "bottom": null,
            "_model_module": "@jupyter-widgets/base",
            "top": null,
            "grid_column": null,
            "overflow_y": null,
            "overflow_x": null,
            "grid_auto_flow": null,
            "grid_area": null,
            "grid_template_columns": null,
            "flex": null,
            "_model_name": "LayoutModel",
            "justify_items": null,
            "grid_row": null,
            "max_height": null,
            "align_content": null,
            "visibility": null,
            "align_self": null,
            "height": null,
            "min_height": null,
            "padding": null,
            "grid_auto_rows": null,
            "grid_gap": null,
            "max_width": null,
            "order": null,
            "_view_module_version": "1.2.0",
            "grid_template_areas": null,
            "object_position": null,
            "object_fit": null,
            "grid_auto_columns": null,
            "margin": null,
            "display": null,
            "left": null
          }
        },
        "e82c54b2d26742ada9efa49dd0df8cc1": {
          "model_module": "@jupyter-widgets/controls",
          "model_name": "FloatProgressModel",
          "state": {
            "_view_name": "ProgressView",
            "style": "IPY_MODEL_73d59cb34d64466b897e55a6b231b8ff",
            "_dom_classes": [],
            "description": "100%",
            "_model_name": "FloatProgressModel",
            "bar_style": "success",
            "max": 4,
            "_view_module": "@jupyter-widgets/controls",
            "_model_module_version": "1.5.0",
            "value": 4,
            "_view_count": null,
            "_view_module_version": "1.5.0",
            "orientation": "horizontal",
            "min": 0,
            "description_tooltip": null,
            "_model_module": "@jupyter-widgets/controls",
            "layout": "IPY_MODEL_b2b549a9e91348c088e0e26ce39814c5"
          }
        },
        "c78f3d811f5842c0bb450f05c299a547": {
          "model_module": "@jupyter-widgets/controls",
          "model_name": "HTMLModel",
          "state": {
            "_view_name": "HTMLView",
            "style": "IPY_MODEL_96cee0e987904ed396ce923f6212df35",
            "_dom_classes": [],
            "description": "",
            "_model_name": "HTMLModel",
            "placeholder": "​",
            "_view_module": "@jupyter-widgets/controls",
            "_model_module_version": "1.5.0",
            "value": " 4/4 [00:36&lt;00:00,  9.11s/ba]",
            "_view_count": null,
            "_view_module_version": "1.5.0",
            "description_tooltip": null,
            "_model_module": "@jupyter-widgets/controls",
            "layout": "IPY_MODEL_19f5b92693a04297a16a5d83341b5a28"
          }
        },
        "73d59cb34d64466b897e55a6b231b8ff": {
          "model_module": "@jupyter-widgets/controls",
          "model_name": "ProgressStyleModel",
          "state": {
            "_view_name": "StyleView",
            "_model_name": "ProgressStyleModel",
            "description_width": "initial",
            "_view_module": "@jupyter-widgets/base",
            "_model_module_version": "1.5.0",
            "_view_count": null,
            "_view_module_version": "1.2.0",
            "bar_color": null,
            "_model_module": "@jupyter-widgets/controls"
          }
        },
        "b2b549a9e91348c088e0e26ce39814c5": {
          "model_module": "@jupyter-widgets/base",
          "model_name": "LayoutModel",
          "state": {
            "_view_name": "LayoutView",
            "grid_template_rows": null,
            "right": null,
            "justify_content": null,
            "_view_module": "@jupyter-widgets/base",
            "overflow": null,
            "_model_module_version": "1.2.0",
            "_view_count": null,
            "flex_flow": null,
            "width": null,
            "min_width": null,
            "border": null,
            "align_items": null,
            "bottom": null,
            "_model_module": "@jupyter-widgets/base",
            "top": null,
            "grid_column": null,
            "overflow_y": null,
            "overflow_x": null,
            "grid_auto_flow": null,
            "grid_area": null,
            "grid_template_columns": null,
            "flex": null,
            "_model_name": "LayoutModel",
            "justify_items": null,
            "grid_row": null,
            "max_height": null,
            "align_content": null,
            "visibility": null,
            "align_self": null,
            "height": null,
            "min_height": null,
            "padding": null,
            "grid_auto_rows": null,
            "grid_gap": null,
            "max_width": null,
            "order": null,
            "_view_module_version": "1.2.0",
            "grid_template_areas": null,
            "object_position": null,
            "object_fit": null,
            "grid_auto_columns": null,
            "margin": null,
            "display": null,
            "left": null
          }
        },
        "96cee0e987904ed396ce923f6212df35": {
          "model_module": "@jupyter-widgets/controls",
          "model_name": "DescriptionStyleModel",
          "state": {
            "_view_name": "StyleView",
            "_model_name": "DescriptionStyleModel",
            "description_width": "",
            "_view_module": "@jupyter-widgets/base",
            "_model_module_version": "1.5.0",
            "_view_count": null,
            "_view_module_version": "1.2.0",
            "_model_module": "@jupyter-widgets/controls"
          }
        },
        "19f5b92693a04297a16a5d83341b5a28": {
          "model_module": "@jupyter-widgets/base",
          "model_name": "LayoutModel",
          "state": {
            "_view_name": "LayoutView",
            "grid_template_rows": null,
            "right": null,
            "justify_content": null,
            "_view_module": "@jupyter-widgets/base",
            "overflow": null,
            "_model_module_version": "1.2.0",
            "_view_count": null,
            "flex_flow": null,
            "width": null,
            "min_width": null,
            "border": null,
            "align_items": null,
            "bottom": null,
            "_model_module": "@jupyter-widgets/base",
            "top": null,
            "grid_column": null,
            "overflow_y": null,
            "overflow_x": null,
            "grid_auto_flow": null,
            "grid_area": null,
            "grid_template_columns": null,
            "flex": null,
            "_model_name": "LayoutModel",
            "justify_items": null,
            "grid_row": null,
            "max_height": null,
            "align_content": null,
            "visibility": null,
            "align_self": null,
            "height": null,
            "min_height": null,
            "padding": null,
            "grid_auto_rows": null,
            "grid_gap": null,
            "max_width": null,
            "order": null,
            "_view_module_version": "1.2.0",
            "grid_template_areas": null,
            "object_position": null,
            "object_fit": null,
            "grid_auto_columns": null,
            "margin": null,
            "display": null,
            "left": null
          }
        },
        "c664ac111df54a8eb83439ccaded84a3": {
          "model_module": "@jupyter-widgets/controls",
          "model_name": "HBoxModel",
          "state": {
            "_view_name": "HBoxView",
            "_dom_classes": [],
            "_model_name": "HBoxModel",
            "_view_module": "@jupyter-widgets/controls",
            "_model_module_version": "1.5.0",
            "_view_count": null,
            "_view_module_version": "1.5.0",
            "box_style": "",
            "layout": "IPY_MODEL_5ea5fdd2a52d446d9e66b7b7c5f95516",
            "_model_module": "@jupyter-widgets/controls",
            "children": [
              "IPY_MODEL_18607525464242809fe0de0d232260a6",
              "IPY_MODEL_f8fba0e5590a46369476413c6ab356e7"
            ]
          }
        },
        "5ea5fdd2a52d446d9e66b7b7c5f95516": {
          "model_module": "@jupyter-widgets/base",
          "model_name": "LayoutModel",
          "state": {
            "_view_name": "LayoutView",
            "grid_template_rows": null,
            "right": null,
            "justify_content": null,
            "_view_module": "@jupyter-widgets/base",
            "overflow": null,
            "_model_module_version": "1.2.0",
            "_view_count": null,
            "flex_flow": null,
            "width": null,
            "min_width": null,
            "border": null,
            "align_items": null,
            "bottom": null,
            "_model_module": "@jupyter-widgets/base",
            "top": null,
            "grid_column": null,
            "overflow_y": null,
            "overflow_x": null,
            "grid_auto_flow": null,
            "grid_area": null,
            "grid_template_columns": null,
            "flex": null,
            "_model_name": "LayoutModel",
            "justify_items": null,
            "grid_row": null,
            "max_height": null,
            "align_content": null,
            "visibility": null,
            "align_self": null,
            "height": null,
            "min_height": null,
            "padding": null,
            "grid_auto_rows": null,
            "grid_gap": null,
            "max_width": null,
            "order": null,
            "_view_module_version": "1.2.0",
            "grid_template_areas": null,
            "object_position": null,
            "object_fit": null,
            "grid_auto_columns": null,
            "margin": null,
            "display": null,
            "left": null
          }
        },
        "18607525464242809fe0de0d232260a6": {
          "model_module": "@jupyter-widgets/controls",
          "model_name": "FloatProgressModel",
          "state": {
            "_view_name": "ProgressView",
            "style": "IPY_MODEL_78b1df045250445da54b08d0176d4143",
            "_dom_classes": [],
            "description": "100%",
            "_model_name": "FloatProgressModel",
            "bar_style": "success",
            "max": 1,
            "_view_module": "@jupyter-widgets/controls",
            "_model_module_version": "1.5.0",
            "value": 1,
            "_view_count": null,
            "_view_module_version": "1.5.0",
            "orientation": "horizontal",
            "min": 0,
            "description_tooltip": null,
            "_model_module": "@jupyter-widgets/controls",
            "layout": "IPY_MODEL_5f85c3d53a59473e9207f597a9148eb5"
          }
        },
        "f8fba0e5590a46369476413c6ab356e7": {
          "model_module": "@jupyter-widgets/controls",
          "model_name": "HTMLModel",
          "state": {
            "_view_name": "HTMLView",
            "style": "IPY_MODEL_4ba49ec8aac444bcba0c993cf8d0022f",
            "_dom_classes": [],
            "description": "",
            "_model_name": "HTMLModel",
            "placeholder": "​",
            "_view_module": "@jupyter-widgets/controls",
            "_model_module_version": "1.5.0",
            "value": " 1/1 [00:00&lt;00:00,  3.55ba/s]",
            "_view_count": null,
            "_view_module_version": "1.5.0",
            "description_tooltip": null,
            "_model_module": "@jupyter-widgets/controls",
            "layout": "IPY_MODEL_53df33d532664662b50ad976e578297f"
          }
        },
        "78b1df045250445da54b08d0176d4143": {
          "model_module": "@jupyter-widgets/controls",
          "model_name": "ProgressStyleModel",
          "state": {
            "_view_name": "StyleView",
            "_model_name": "ProgressStyleModel",
            "description_width": "initial",
            "_view_module": "@jupyter-widgets/base",
            "_model_module_version": "1.5.0",
            "_view_count": null,
            "_view_module_version": "1.2.0",
            "bar_color": null,
            "_model_module": "@jupyter-widgets/controls"
          }
        },
        "5f85c3d53a59473e9207f597a9148eb5": {
          "model_module": "@jupyter-widgets/base",
          "model_name": "LayoutModel",
          "state": {
            "_view_name": "LayoutView",
            "grid_template_rows": null,
            "right": null,
            "justify_content": null,
            "_view_module": "@jupyter-widgets/base",
            "overflow": null,
            "_model_module_version": "1.2.0",
            "_view_count": null,
            "flex_flow": null,
            "width": null,
            "min_width": null,
            "border": null,
            "align_items": null,
            "bottom": null,
            "_model_module": "@jupyter-widgets/base",
            "top": null,
            "grid_column": null,
            "overflow_y": null,
            "overflow_x": null,
            "grid_auto_flow": null,
            "grid_area": null,
            "grid_template_columns": null,
            "flex": null,
            "_model_name": "LayoutModel",
            "justify_items": null,
            "grid_row": null,
            "max_height": null,
            "align_content": null,
            "visibility": null,
            "align_self": null,
            "height": null,
            "min_height": null,
            "padding": null,
            "grid_auto_rows": null,
            "grid_gap": null,
            "max_width": null,
            "order": null,
            "_view_module_version": "1.2.0",
            "grid_template_areas": null,
            "object_position": null,
            "object_fit": null,
            "grid_auto_columns": null,
            "margin": null,
            "display": null,
            "left": null
          }
        },
        "4ba49ec8aac444bcba0c993cf8d0022f": {
          "model_module": "@jupyter-widgets/controls",
          "model_name": "DescriptionStyleModel",
          "state": {
            "_view_name": "StyleView",
            "_model_name": "DescriptionStyleModel",
            "description_width": "",
            "_view_module": "@jupyter-widgets/base",
            "_model_module_version": "1.5.0",
            "_view_count": null,
            "_view_module_version": "1.2.0",
            "_model_module": "@jupyter-widgets/controls"
          }
        },
        "53df33d532664662b50ad976e578297f": {
          "model_module": "@jupyter-widgets/base",
          "model_name": "LayoutModel",
          "state": {
            "_view_name": "LayoutView",
            "grid_template_rows": null,
            "right": null,
            "justify_content": null,
            "_view_module": "@jupyter-widgets/base",
            "overflow": null,
            "_model_module_version": "1.2.0",
            "_view_count": null,
            "flex_flow": null,
            "width": null,
            "min_width": null,
            "border": null,
            "align_items": null,
            "bottom": null,
            "_model_module": "@jupyter-widgets/base",
            "top": null,
            "grid_column": null,
            "overflow_y": null,
            "overflow_x": null,
            "grid_auto_flow": null,
            "grid_area": null,
            "grid_template_columns": null,
            "flex": null,
            "_model_name": "LayoutModel",
            "justify_items": null,
            "grid_row": null,
            "max_height": null,
            "align_content": null,
            "visibility": null,
            "align_self": null,
            "height": null,
            "min_height": null,
            "padding": null,
            "grid_auto_rows": null,
            "grid_gap": null,
            "max_width": null,
            "order": null,
            "_view_module_version": "1.2.0",
            "grid_template_areas": null,
            "object_position": null,
            "object_fit": null,
            "grid_auto_columns": null,
            "margin": null,
            "display": null,
            "left": null
          }
        },
        "cf0c41f05725427aabfe81328106f493": {
          "model_module": "@jupyter-widgets/controls",
          "model_name": "HBoxModel",
          "state": {
            "_view_name": "HBoxView",
            "_dom_classes": [],
            "_model_name": "HBoxModel",
            "_view_module": "@jupyter-widgets/controls",
            "_model_module_version": "1.5.0",
            "_view_count": null,
            "_view_module_version": "1.5.0",
            "box_style": "",
            "layout": "IPY_MODEL_6f9a2e76885344508b3ac47fcab7df94",
            "_model_module": "@jupyter-widgets/controls",
            "children": [
              "IPY_MODEL_ce60a9133c4248ab9d3cd0a30fb8f725",
              "IPY_MODEL_cd06638e8d3645d19af3dbb4b66aad40"
            ]
          }
        },
        "6f9a2e76885344508b3ac47fcab7df94": {
          "model_module": "@jupyter-widgets/base",
          "model_name": "LayoutModel",
          "state": {
            "_view_name": "LayoutView",
            "grid_template_rows": null,
            "right": null,
            "justify_content": null,
            "_view_module": "@jupyter-widgets/base",
            "overflow": null,
            "_model_module_version": "1.2.0",
            "_view_count": null,
            "flex_flow": null,
            "width": null,
            "min_width": null,
            "border": null,
            "align_items": null,
            "bottom": null,
            "_model_module": "@jupyter-widgets/base",
            "top": null,
            "grid_column": null,
            "overflow_y": null,
            "overflow_x": null,
            "grid_auto_flow": null,
            "grid_area": null,
            "grid_template_columns": null,
            "flex": null,
            "_model_name": "LayoutModel",
            "justify_items": null,
            "grid_row": null,
            "max_height": null,
            "align_content": null,
            "visibility": null,
            "align_self": null,
            "height": null,
            "min_height": null,
            "padding": null,
            "grid_auto_rows": null,
            "grid_gap": null,
            "max_width": null,
            "order": null,
            "_view_module_version": "1.2.0",
            "grid_template_areas": null,
            "object_position": null,
            "object_fit": null,
            "grid_auto_columns": null,
            "margin": null,
            "display": null,
            "left": null
          }
        },
        "ce60a9133c4248ab9d3cd0a30fb8f725": {
          "model_module": "@jupyter-widgets/controls",
          "model_name": "FloatProgressModel",
          "state": {
            "_view_name": "ProgressView",
            "style": "IPY_MODEL_c56460f2a17742e29b326fe0a6ad191f",
            "_dom_classes": [],
            "description": "100%",
            "_model_name": "FloatProgressModel",
            "bar_style": "success",
            "max": 1,
            "_view_module": "@jupyter-widgets/controls",
            "_model_module_version": "1.5.0",
            "value": 1,
            "_view_count": null,
            "_view_module_version": "1.5.0",
            "orientation": "horizontal",
            "min": 0,
            "description_tooltip": null,
            "_model_module": "@jupyter-widgets/controls",
            "layout": "IPY_MODEL_d22f4edcc74345e19a0dbd2b230e0ba3"
          }
        },
        "cd06638e8d3645d19af3dbb4b66aad40": {
          "model_module": "@jupyter-widgets/controls",
          "model_name": "HTMLModel",
          "state": {
            "_view_name": "HTMLView",
            "style": "IPY_MODEL_75a724e1e83c4380a945a1e9e50f4555",
            "_dom_classes": [],
            "description": "",
            "_model_name": "HTMLModel",
            "placeholder": "​",
            "_view_module": "@jupyter-widgets/controls",
            "_model_module_version": "1.5.0",
            "value": " 1/1 [00:35&lt;00:00, 35.23s/ba]",
            "_view_count": null,
            "_view_module_version": "1.5.0",
            "description_tooltip": null,
            "_model_module": "@jupyter-widgets/controls",
            "layout": "IPY_MODEL_3e52b0ff9dd64c3abb694f337ddb7da0"
          }
        },
        "c56460f2a17742e29b326fe0a6ad191f": {
          "model_module": "@jupyter-widgets/controls",
          "model_name": "ProgressStyleModel",
          "state": {
            "_view_name": "StyleView",
            "_model_name": "ProgressStyleModel",
            "description_width": "initial",
            "_view_module": "@jupyter-widgets/base",
            "_model_module_version": "1.5.0",
            "_view_count": null,
            "_view_module_version": "1.2.0",
            "bar_color": null,
            "_model_module": "@jupyter-widgets/controls"
          }
        },
        "d22f4edcc74345e19a0dbd2b230e0ba3": {
          "model_module": "@jupyter-widgets/base",
          "model_name": "LayoutModel",
          "state": {
            "_view_name": "LayoutView",
            "grid_template_rows": null,
            "right": null,
            "justify_content": null,
            "_view_module": "@jupyter-widgets/base",
            "overflow": null,
            "_model_module_version": "1.2.0",
            "_view_count": null,
            "flex_flow": null,
            "width": null,
            "min_width": null,
            "border": null,
            "align_items": null,
            "bottom": null,
            "_model_module": "@jupyter-widgets/base",
            "top": null,
            "grid_column": null,
            "overflow_y": null,
            "overflow_x": null,
            "grid_auto_flow": null,
            "grid_area": null,
            "grid_template_columns": null,
            "flex": null,
            "_model_name": "LayoutModel",
            "justify_items": null,
            "grid_row": null,
            "max_height": null,
            "align_content": null,
            "visibility": null,
            "align_self": null,
            "height": null,
            "min_height": null,
            "padding": null,
            "grid_auto_rows": null,
            "grid_gap": null,
            "max_width": null,
            "order": null,
            "_view_module_version": "1.2.0",
            "grid_template_areas": null,
            "object_position": null,
            "object_fit": null,
            "grid_auto_columns": null,
            "margin": null,
            "display": null,
            "left": null
          }
        },
        "75a724e1e83c4380a945a1e9e50f4555": {
          "model_module": "@jupyter-widgets/controls",
          "model_name": "DescriptionStyleModel",
          "state": {
            "_view_name": "StyleView",
            "_model_name": "DescriptionStyleModel",
            "description_width": "",
            "_view_module": "@jupyter-widgets/base",
            "_model_module_version": "1.5.0",
            "_view_count": null,
            "_view_module_version": "1.2.0",
            "_model_module": "@jupyter-widgets/controls"
          }
        },
        "3e52b0ff9dd64c3abb694f337ddb7da0": {
          "model_module": "@jupyter-widgets/base",
          "model_name": "LayoutModel",
          "state": {
            "_view_name": "LayoutView",
            "grid_template_rows": null,
            "right": null,
            "justify_content": null,
            "_view_module": "@jupyter-widgets/base",
            "overflow": null,
            "_model_module_version": "1.2.0",
            "_view_count": null,
            "flex_flow": null,
            "width": null,
            "min_width": null,
            "border": null,
            "align_items": null,
            "bottom": null,
            "_model_module": "@jupyter-widgets/base",
            "top": null,
            "grid_column": null,
            "overflow_y": null,
            "overflow_x": null,
            "grid_auto_flow": null,
            "grid_area": null,
            "grid_template_columns": null,
            "flex": null,
            "_model_name": "LayoutModel",
            "justify_items": null,
            "grid_row": null,
            "max_height": null,
            "align_content": null,
            "visibility": null,
            "align_self": null,
            "height": null,
            "min_height": null,
            "padding": null,
            "grid_auto_rows": null,
            "grid_gap": null,
            "max_width": null,
            "order": null,
            "_view_module_version": "1.2.0",
            "grid_template_areas": null,
            "object_position": null,
            "object_fit": null,
            "grid_auto_columns": null,
            "margin": null,
            "display": null,
            "left": null
          }
        }
      }
    }
  },
  "cells": [
    {
      "cell_type": "markdown",
      "metadata": {
        "id": "tTQURfFmhxWD"
      },
      "source": [
        "# BERT NUSWhispers\n",
        "\n",
        "This notebook documents various explorations with regards to using BERT in the NUSWhispers sentiment analysis task."
      ]
    },
    {
      "cell_type": "code",
      "metadata": {
        "id": "Q2W7oeQ4cQTT",
        "colab": {
          "base_uri": "https://localhost:8080/"
        },
        "outputId": "166e7498-49a8-4064-e193-e0fefc7469e7"
      },
      "source": [
        "from google.colab import drive\n",
        "drive.mount('/content/drive')"
      ],
      "execution_count": 1,
      "outputs": [
        {
          "output_type": "stream",
          "text": [
            "Mounted at /content/drive\n"
          ],
          "name": "stdout"
        }
      ]
    },
    {
      "cell_type": "code",
      "metadata": {
        "id": "nHQSNW5j3jqo",
        "colab": {
          "base_uri": "https://localhost:8080/"
        },
        "outputId": "cc9b98bc-a3dc-433a-b319-33cefd27b286"
      },
      "source": [
        "!git clone https://github.com/CindyTsai1/CS4248-Team23.git"
      ],
      "execution_count": 2,
      "outputs": [
        {
          "output_type": "stream",
          "text": [
            "Cloning into 'CS4248-Team23'...\n",
            "remote: Enumerating objects: 440, done.\u001b[K\n",
            "remote: Counting objects: 100% (50/50), done.\u001b[K\n",
            "remote: Compressing objects: 100% (43/43), done.\u001b[K\n",
            "remote: Total 440 (delta 7), reused 46 (delta 7), pack-reused 390\u001b[K\n",
            "Receiving objects: 100% (440/440), 129.83 MiB | 28.49 MiB/s, done.\n",
            "Resolving deltas: 100% (219/219), done.\n",
            "Checking out files: 100% (136/136), done.\n"
          ],
          "name": "stdout"
        }
      ]
    },
    {
      "cell_type": "code",
      "metadata": {
        "id": "79ZgBole5ZG3"
      },
      "source": [
        "!pip install datasets transformers >/dev/null 2>&1"
      ],
      "execution_count": 3,
      "outputs": []
    },
    {
      "cell_type": "code",
      "metadata": {
        "id": "9UPoZTn0rX6h"
      },
      "source": [
        "!pip install --upgrade --force-reinstall imbalanced-learn >/dev/null 2>&1"
      ],
      "execution_count": 4,
      "outputs": []
    },
    {
      "cell_type": "code",
      "metadata": {
        "id": "J-hSpyl55kcj",
        "colab": {
          "base_uri": "https://localhost:8080/"
        },
        "outputId": "93ff6212-7ea4-47b8-9a47-3b71bb29a94f"
      },
      "source": [
        "# check successful installation of transformers\n",
        "!python -c \"from transformers import pipeline; print(pipeline('sentiment-analysis')('we love you'))\""
      ],
      "execution_count": 5,
      "outputs": [
        {
          "output_type": "stream",
          "text": [
            "2021-04-21 07:13:06.059049: I tensorflow/stream_executor/platform/default/dso_loader.cc:49] Successfully opened dynamic library libcudart.so.11.0\n",
            "Downloading: 100% 629/629 [00:00<00:00, 566kB/s]\n",
            "Downloading: 100% 268M/268M [00:03<00:00, 73.4MB/s]\n",
            "Downloading: 100% 232k/232k [00:00<00:00, 686kB/s]\n",
            "Downloading: 100% 48.0/48.0 [00:00<00:00, 40.7kB/s]\n",
            "[{'label': 'POSITIVE', 'score': 0.9998704791069031}]\n"
          ],
          "name": "stdout"
        }
      ]
    },
    {
      "cell_type": "code",
      "metadata": {
        "id": "_tle6TlTFbj0"
      },
      "source": [
        "from copy import deepcopy\n",
        "import numpy as np\n",
        "import pandas as pd\n",
        "import transformers\n",
        "import torch\n",
        "import warnings\n",
        "import torch.nn as nn\n",
        "from torch.nn import GELU\n",
        "from datasets import Dataset, load_metric\n",
        "from transformers import BertModel, BertForSequenceClassification, BertForPreTraining,\\\n",
        "                         BertTokenizerFast, Trainer, TrainingArguments\n",
        "from sklearn.metrics import accuracy_score, precision_recall_fscore_support\n",
        "from sklearn.model_selection import train_test_split\n",
        "from imblearn.metrics import macro_averaged_mean_absolute_error\n",
        "\n",
        "warnings.filterwarnings('ignore')"
      ],
      "execution_count": 6,
      "outputs": []
    },
    {
      "cell_type": "code",
      "metadata": {
        "id": "ZiUgC3ys3jGh"
      },
      "source": [
        "model_name = 'bert-base-cased'\n",
        "num_labels = 5"
      ],
      "execution_count": 7,
      "outputs": []
    },
    {
      "cell_type": "code",
      "metadata": {
        "id": "kT_oTX22CAT3"
      },
      "source": [
        "def pt_bert(model_name, num_labels, train_mode=True):\n",
        "  model = BertForSequenceClassification.from_pretrained(model_name, \n",
        "                                                        num_labels=num_labels)\n",
        "  if train_mode:\n",
        "    model.train()\n",
        "  return model\n",
        "\n",
        "def pt_bert_extended(model_name, num_labels, train_mode=True):\n",
        "  '''\n",
        "  Use this model if you want to extend the BERT model with other \n",
        "  features, e.g. text length besides the embeddings.\n",
        "  '''\n",
        "  class ExtendedBert(nn.Module):\n",
        "      def __init__(self):\n",
        "          super().__init__()\n",
        "\n",
        "          self.bert = BertModel.from_pretrained(model_name)\n",
        "          self.linear = nn.Linear(768, 768)\n",
        "          self.act = GELU()\n",
        "          self.classifier = nn.Linear(768, num_labels)\n",
        "\n",
        "      def forward(self, encoded, other_feats):\n",
        "          # get the hidden state of the last layer\n",
        "          last_hidden = self.bert(**encoded)[0]\n",
        "          # concatenate with the other given features\n",
        "          cat = torch.cat([last_hidden, other_feats], dim=-1)\n",
        "          # pass through linear layer\n",
        "          output = self.linear(cat)\n",
        "          # pass through non-linear activation and final classifier layer\n",
        "          return self.classifier(self.act(output))\n",
        "  model = ExtendedBert()\n",
        "  if train_mode:\n",
        "    model.train()\n",
        "  return model"
      ],
      "execution_count": 8,
      "outputs": []
    },
    {
      "cell_type": "code",
      "metadata": {
        "id": "hL4rmtNsFX2j"
      },
      "source": [
        "def compute_metrics(pred):\n",
        "    labels = pred.label_ids\n",
        "    preds = pred.predictions.argmax(-1)\n",
        "    precision, recall, f1, _ = precision_recall_fscore_support(labels, preds, average='macro')\n",
        "    mmae = macro_averaged_mean_absolute_error(labels, preds)\n",
        "    acc = accuracy_score(labels, preds)\n",
        "    return {\n",
        "        'accuracy': acc,\n",
        "        'f1': f1,\n",
        "        # 'precision': precision,\n",
        "        # 'recall': recall,\n",
        "        'mmae': mmae,\n",
        "    }"
      ],
      "execution_count": 9,
      "outputs": []
    },
    {
      "cell_type": "code",
      "metadata": {
        "id": "b5isdOthh256"
      },
      "source": [
        "def load_nuswhispers_datasets(model_name, split=True):\n",
        "  # load NUSWhispers dataset\n",
        "  data_file = '/content/CS4248-Team23/data/v6_remove_punctuation_remove_non_english_correct_spelling_replace_short_form_slang.csv'\n",
        "  # data_file = '/content/CS4248-Team23/data/v7_expand_contraction_remove_punctuation_remove_stopwords_remove_non_english_correct_spelling_replace_short_form_slang_lemmatization.csv'\n",
        "  # data_file = '/content/CS4248-Team23/data/v7_expand_contraction.csv'\n",
        "  # data_file = '/content/CS4248-Team23/data/v7_expand_contraction_remove_punctuation_remove_non_english_correct_spelling_replace_short_form_slang_lemmatization1.csv'\n",
        "\n",
        "  old_train = pd.read_csv(data_file)\n",
        "  old_train.dropna(subset=['text'], inplace=True)\n",
        "  train = deepcopy(old_train)\n",
        "\n",
        "  tokenizer = BertTokenizerFast.from_pretrained(model_name)\n",
        "  \n",
        "  def preprocess_function(examples):\n",
        "      return tokenizer(examples['text'], truncation=True, padding=True)\n",
        "\n",
        "  if split:\n",
        "    train_dataset, test_dataset = train_test_split(train, test_size=0.2, random_state=10)\n",
        "    train_dataset, val_dataset = train_test_split(train, test_size=0.2, random_state=10)\n",
        "    test_dataset, val_dataset = train_test_split(val_dataset, test_size=0.5, random_state=10)\n",
        "\n",
        "    train_dataset_text = deepcopy(train_dataset[['text','label']])\n",
        "    val_dataset_text = deepcopy(val_dataset[['text','label']])\n",
        "    test_dataset_text = deepcopy(test_dataset[['text','label']])\n",
        "\n",
        "    train_dataset = Dataset.from_pandas(train_dataset_text)\n",
        "    val_dataset = Dataset.from_pandas(val_dataset_text)\n",
        "    test_dataset = Dataset.from_pandas(test_dataset_text)\n",
        "\n",
        "    train_dataset = train_dataset.map(preprocess_function, batched=True, load_from_cache_file=False)\n",
        "    val_dataset = val_dataset.map(preprocess_function, batched=True, load_from_cache_file=False)\n",
        "    test_dataset = test_dataset.map(preprocess_function, batched=True, load_from_cache_file=False)\n",
        "\n",
        "    columns_to_return = ['input_ids', 'label', 'attention_mask']\n",
        "    train_dataset.set_format(type='torch', columns=columns_to_return)\n",
        "    val_dataset.set_format(type='torch', columns=columns_to_return)\n",
        "    test_dataset.set_format(type='torch', columns=columns_to_return)\n",
        "    return train_dataset, val_dataset, test_dataset\n",
        "  else:\n",
        "    train_dataset_text = deepcopy(train[['text','label']])\n",
        "    train_dataset = Dataset.from_pandas(train_dataset_text)\n",
        "    print(train_dataset_text)\n",
        "    train_dataset = train_dataset.map(preprocess_function, batched=True, load_from_cache_file=False)\n",
        "    columns_to_return = ['input_ids', 'label', 'attention_mask']\n",
        "    train_dataset.set_format(type='torch', columns=columns_to_return)\n",
        "    return train_dataset"
      ],
      "execution_count": 10,
      "outputs": []
    },
    {
      "cell_type": "code",
      "metadata": {
        "id": "OeYY3-clsjaf",
        "colab": {
          "base_uri": "https://localhost:8080/",
          "height": 167,
          "referenced_widgets": [
            "3135c4d262494c93b3d876434ed9e526",
            "e46b4a86cd73432faa0c0614930386b1",
            "2c50af17ace44cd8a7880c28ff84cc3b",
            "988903324270471c8ba144a5d8c4d330",
            "0cd2d57c2e3843fb807912f3594b5108",
            "267f4fb670a84a8ea91686a08c8b28fc",
            "5a101d4aa7c24d27a99d51ce14001c28",
            "6880cfcc886b47cb89fb9532c9a87f55",
            "5c3e18a2072b4a80afa83ea5067780bb",
            "e2859d9ca95e4bebbfca8e66b2f746be",
            "6dc8a91954924bbe956849f6e0120a8f",
            "fe0b8985f9ef4a21a37de06d8ed6e6aa",
            "9944ddf540bc4a8c9eb6dc7b627785e3",
            "c84f658fe8f449f6a339eeffa2386a2a",
            "2f8d289a742c4fbdb438fc3c7fb6d599",
            "ca29c4d091d342ad9bbac73fa76eefce",
            "dd1b570730ff4b6493584f649e20e069",
            "e401385102404a2980cac7bbddddc446",
            "ae377e8cf83d4a3fa5729171ac404292",
            "41ab926287b14eab83535252b58e5414",
            "567fe5cfed2e46488c8f38712a85f6b4",
            "26d44779e51c4804b4d0ff00c394d70b",
            "7869dc21106b46138e5d18d6accb1df1",
            "3e14c7cd493b4d3aa931258d5f458cd4"
          ]
        },
        "outputId": "44c372cf-fdd3-455e-e83a-e23df836bea3"
      },
      "source": [
        "tokenizer = BertTokenizerFast.from_pretrained(model_name)"
      ],
      "execution_count": 11,
      "outputs": [
        {
          "output_type": "display_data",
          "data": {
            "application/vnd.jupyter.widget-view+json": {
              "model_id": "3135c4d262494c93b3d876434ed9e526",
              "version_minor": 0,
              "version_major": 2
            },
            "text/plain": [
              "HBox(children=(FloatProgress(value=0.0, description='Downloading', max=213450.0, style=ProgressStyle(descripti…"
            ]
          },
          "metadata": {
            "tags": []
          }
        },
        {
          "output_type": "stream",
          "text": [
            "\n"
          ],
          "name": "stdout"
        },
        {
          "output_type": "display_data",
          "data": {
            "application/vnd.jupyter.widget-view+json": {
              "model_id": "5c3e18a2072b4a80afa83ea5067780bb",
              "version_minor": 0,
              "version_major": 2
            },
            "text/plain": [
              "HBox(children=(FloatProgress(value=0.0, description='Downloading', max=435797.0, style=ProgressStyle(descripti…"
            ]
          },
          "metadata": {
            "tags": []
          }
        },
        {
          "output_type": "stream",
          "text": [
            "\n"
          ],
          "name": "stdout"
        },
        {
          "output_type": "display_data",
          "data": {
            "application/vnd.jupyter.widget-view+json": {
              "model_id": "dd1b570730ff4b6493584f649e20e069",
              "version_minor": 0,
              "version_major": 2
            },
            "text/plain": [
              "HBox(children=(FloatProgress(value=0.0, description='Downloading', max=29.0, style=ProgressStyle(description_w…"
            ]
          },
          "metadata": {
            "tags": []
          }
        },
        {
          "output_type": "stream",
          "text": [
            "\n"
          ],
          "name": "stdout"
        }
      ]
    },
    {
      "cell_type": "code",
      "metadata": {
        "id": "2o2V8qvavvfS",
        "colab": {
          "base_uri": "https://localhost:8080/",
          "height": 319,
          "referenced_widgets": [
            "a8978fe4f6b94a86ae5c08b8a53eff23",
            "89a4f4a3aeda46c3a5e7c5043fed1b98",
            "bec47a63a6cd43dc96cd33e04be56af1",
            "777297cdf70a4fd29bf3c69447a264f1",
            "d324bfbf6e88463fbb2a8391024cad8a",
            "4a8ed6b0d521487480068a7b90fd722c",
            "11a8c192611c4c03a5e741df54902f99",
            "f3fb423d061e416e9377abee0fee0844"
          ]
        },
        "outputId": "de0f3d0f-284b-4459-e9bd-bbba8e19260c"
      },
      "source": [
        "ds = load_nuswhispers_datasets(model_name, False)"
      ],
      "execution_count": 12,
      "outputs": [
        {
          "output_type": "stream",
          "text": [
            "                                                   text  label\n",
            "0                                                     D      0\n",
            "1                                    Im sorry SpongeBob      0\n",
            "2     Dont chase after who you like If you are meant...      0\n",
            "3     Friends shouldnt expect anything in return Thi...      2\n",
            "4     I will stop procrastinating and catch up with ...      0\n",
            "...                                                 ...    ...\n",
            "4402  You Yay phase 2 but Im just going to stay at h...      0\n",
            "4403  Young and inexperienced person asking for some...      0\n",
            "4404                                   Zoning meanwhile      0\n",
            "4405                                               Po        0\n",
            "4406                                                         0\n",
            "\n",
            "[4407 rows x 2 columns]\n"
          ],
          "name": "stdout"
        },
        {
          "output_type": "display_data",
          "data": {
            "application/vnd.jupyter.widget-view+json": {
              "model_id": "a8978fe4f6b94a86ae5c08b8a53eff23",
              "version_minor": 0,
              "version_major": 2
            },
            "text/plain": [
              "HBox(children=(FloatProgress(value=0.0, max=5.0), HTML(value='')))"
            ]
          },
          "metadata": {
            "tags": []
          }
        },
        {
          "output_type": "stream",
          "text": [
            "\n"
          ],
          "name": "stdout"
        }
      ]
    },
    {
      "cell_type": "markdown",
      "metadata": {
        "id": "IdueHywYpKuD"
      },
      "source": [
        "# 1. Extracting Contextual Embeddings of Pre-Trained BERT\n",
        "\n",
        "As we also have other non-textual features, we could extract the contextual embeddings of the NUSWhispers posts from the pre-trained BERT model. \n",
        "\n",
        "These embeddings (of size 768) can then be combined with the other features and fed into another classification model, e.g. Logistic Regression or a simple neural network (this is done in our repository's [main.py](https://github.com/CindyTsai1/CS4248-Team23/blob/main/main.py))"
      ]
    },
    {
      "cell_type": "code",
      "metadata": {
        "id": "7PVj7u27jIja"
      },
      "source": [
        "# Load pretrained model/tokenizer\n",
        "model_class, tokenizer_class, pretrained_weights = (transformers.BertModel, \n",
        "                                                    transformers.BertTokenizer, \n",
        "                                                    'bert-base-cased')\n",
        "tokenizer = tokenizer_class.from_pretrained(pretrained_weights)\n",
        "model = model_class.from_pretrained(pretrained_weights)"
      ],
      "execution_count": null,
      "outputs": []
    },
    {
      "cell_type": "code",
      "metadata": {
        "id": "lYiplVV6kQko"
      },
      "source": [
        "data_file = '/content/CS4248-Team23/data/v6_remove_punctuation_remove_non_english_correct_spelling_replace_short_form_slang.csv'\n",
        "df = pd.read_csv(data_file)\n",
        "\n",
        "def generate_embedding(x):\n",
        "  encoding = tokenizer.encode(x, truncation=True, padding=True, max_length=512)\n",
        "  input_ids = torch.tensor(encoding).unsqueeze(0)\n",
        "  with torch.no_grad():\n",
        "    output = model(input_ids)\n",
        "    last_hidden_state = output[0]\n",
        "  # Get [CLS] embedding\n",
        "  features = last_hidden_state[:,0,:].numpy()\n",
        "  return features\n",
        "\n",
        "embeddings = df['text'].apply(generate_embedding)"
      ],
      "execution_count": null,
      "outputs": []
    },
    {
      "cell_type": "code",
      "metadata": {
        "id": "jk29nKvI6T-j"
      },
      "source": [
        "embeddings.to_csv('drive/MyDrive/pt_bert_embeddings.csv')"
      ],
      "execution_count": null,
      "outputs": []
    },
    {
      "cell_type": "markdown",
      "metadata": {
        "id": "-2erSh7UdZ3P"
      },
      "source": [
        "# 2. Finetuning BERT on NUSWhispers Sentiment Analysis Task\n",
        "\n",
        "In the previous section, the pre-trained BERT model was simply used to evaluate and extract the embeddings from the NUSWhispers posts.\n",
        "\n",
        "In this section, we fine-tune the pre-trained BERT on the NUSWhispers post specifically for our text classification (sentiment analysis) task.\n",
        "\n",
        "References:\n",
        "- https://jalammar.github.io/a-visual-guide-to-using-bert-for-the-first-time/"
      ]
    },
    {
      "cell_type": "code",
      "metadata": {
        "id": "iPlzfvfgEOk4",
        "colab": {
          "base_uri": "https://localhost:8080/",
          "height": 167,
          "referenced_widgets": [
            "66955257d5464659ac7d6b7cecdbd4fe",
            "d9e729d971474c0db887f110745120de",
            "493b4a9205124222a2e95f1558639467",
            "279ebecf96b64440834bb970d073c8ab",
            "383667f372a546d4aca8a2edd555b040",
            "01f83eb0dce142e7be7909ef831b8211",
            "2fced378e0a04985a7c031654abe2c69",
            "271cd25fa6c64ed194a147ab2cf56b7c",
            "d244ece24fb642c7834389b032c0584a",
            "a175fe62f2bb43ce81e05f6d28f328e3",
            "d7d9d03282f7448da2374bac5432cc96",
            "ee7d5f8c995c40a2b485df1c1d9e034b",
            "27aa43ce9f3d4601921e66675fad764e",
            "b4eb21cadb024f57bfa454032aedae58",
            "748bc18600f6408faa0f83740323cced",
            "269b903541f6426e85f42335d6908b34",
            "76284178c68642d38e29bd293ec5552d",
            "825eff3073c14498be56516168fd61d9",
            "9bcb31ac2bc247c4bd26abe575e625c2",
            "cff683ab8b3241a6808034dd2445102d",
            "e0cc66d09c07492095d554ba07900c2b",
            "e4e2ff19697d47c49d812f33aa5adcc8",
            "4061072937e34a059c1e2864578490cf",
            "779daed000ab48fd84a3b980bedb576a"
          ]
        },
        "outputId": "5a970b0b-9926-4f75-ff9c-87d75a32ae24"
      },
      "source": [
        "train_dataset, val_dataset, test_dataset = load_nuswhispers_datasets(model_name)"
      ],
      "execution_count": null,
      "outputs": [
        {
          "output_type": "display_data",
          "data": {
            "application/vnd.jupyter.widget-view+json": {
              "model_id": "66955257d5464659ac7d6b7cecdbd4fe",
              "version_minor": 0,
              "version_major": 2
            },
            "text/plain": [
              "HBox(children=(FloatProgress(value=0.0, max=4.0), HTML(value='')))"
            ]
          },
          "metadata": {
            "tags": []
          }
        },
        {
          "output_type": "stream",
          "text": [
            "\n"
          ],
          "name": "stdout"
        },
        {
          "output_type": "display_data",
          "data": {
            "application/vnd.jupyter.widget-view+json": {
              "model_id": "d244ece24fb642c7834389b032c0584a",
              "version_minor": 0,
              "version_major": 2
            },
            "text/plain": [
              "HBox(children=(FloatProgress(value=0.0, max=1.0), HTML(value='')))"
            ]
          },
          "metadata": {
            "tags": []
          }
        },
        {
          "output_type": "stream",
          "text": [
            "\n"
          ],
          "name": "stdout"
        },
        {
          "output_type": "display_data",
          "data": {
            "application/vnd.jupyter.widget-view+json": {
              "model_id": "76284178c68642d38e29bd293ec5552d",
              "version_minor": 0,
              "version_major": 2
            },
            "text/plain": [
              "HBox(children=(FloatProgress(value=0.0, max=1.0), HTML(value='')))"
            ]
          },
          "metadata": {
            "tags": []
          }
        },
        {
          "output_type": "stream",
          "text": [
            "\n"
          ],
          "name": "stdout"
        }
      ]
    },
    {
      "cell_type": "code",
      "metadata": {
        "id": "DdE5kZvfja4G",
        "colab": {
          "base_uri": "https://localhost:8080/",
          "height": 227,
          "referenced_widgets": [
            "18df49c043fa4ac8afdb6bf44592a6de",
            "f3f56d699d83460686bfe86f4a54a459",
            "73b0e85f5f8d430daa7885a1cc2bd225",
            "60ef96beefe44f938b82370bbe1e27f4",
            "054184eb076d4d1fb97ddb74936d25d5",
            "2ea56506bebd4e529910ec0a9c167293",
            "bf7255bd01894c0aa0e0ede89ad2ad81",
            "ccdc1eb68ae3443a90cad7cfd7db44a3",
            "2147e4f232954952998bd2c882abdb26",
            "fb8c7e1ce1ab4a46a2b0ef1d5abf5fc8",
            "979693f1cf42480693472fd06288b450",
            "26b6fbd5be4843af88e7849a8c6a78de",
            "735efb1c04884b84a664d030225f8d50",
            "89754124b4b24817843f4261627d90f3",
            "53ac71c148844576b4a376501dc02a83",
            "8c8cc7cc932b437e807b1c77df01cae4"
          ]
        },
        "outputId": "c9f62e64-7ca2-41f8-97fd-3f12e658aa9d"
      },
      "source": [
        "model = pt_bert(model_name, num_labels, True)"
      ],
      "execution_count": null,
      "outputs": [
        {
          "output_type": "display_data",
          "data": {
            "application/vnd.jupyter.widget-view+json": {
              "model_id": "18df49c043fa4ac8afdb6bf44592a6de",
              "version_minor": 0,
              "version_major": 2
            },
            "text/plain": [
              "HBox(children=(FloatProgress(value=0.0, description='Downloading', max=433.0, style=ProgressStyle(description_…"
            ]
          },
          "metadata": {
            "tags": []
          }
        },
        {
          "output_type": "stream",
          "text": [
            "\n"
          ],
          "name": "stdout"
        },
        {
          "output_type": "display_data",
          "data": {
            "application/vnd.jupyter.widget-view+json": {
              "model_id": "2147e4f232954952998bd2c882abdb26",
              "version_minor": 0,
              "version_major": 2
            },
            "text/plain": [
              "HBox(children=(FloatProgress(value=0.0, description='Downloading', max=435779157.0, style=ProgressStyle(descri…"
            ]
          },
          "metadata": {
            "tags": []
          }
        },
        {
          "output_type": "stream",
          "text": [
            "\n"
          ],
          "name": "stdout"
        },
        {
          "output_type": "stream",
          "text": [
            "Some weights of the model checkpoint at bert-base-cased were not used when initializing BertForSequenceClassification: ['cls.predictions.bias', 'cls.predictions.transform.dense.weight', 'cls.predictions.transform.dense.bias', 'cls.predictions.decoder.weight', 'cls.seq_relationship.weight', 'cls.seq_relationship.bias', 'cls.predictions.transform.LayerNorm.weight', 'cls.predictions.transform.LayerNorm.bias']\n",
            "- This IS expected if you are initializing BertForSequenceClassification from the checkpoint of a model trained on another task or with another architecture (e.g. initializing a BertForSequenceClassification model from a BertForPreTraining model).\n",
            "- This IS NOT expected if you are initializing BertForSequenceClassification from the checkpoint of a model that you expect to be exactly identical (initializing a BertForSequenceClassification model from a BertForSequenceClassification model).\n",
            "Some weights of BertForSequenceClassification were not initialized from the model checkpoint at bert-base-cased and are newly initialized: ['classifier.weight', 'classifier.bias']\n",
            "You should probably TRAIN this model on a down-stream task to be able to use it for predictions and inference.\n"
          ],
          "name": "stderr"
        }
      ]
    },
    {
      "cell_type": "code",
      "metadata": {
        "id": "sRcZZ5bt441X"
      },
      "source": [
        "training_args = TrainingArguments(\n",
        "    output_dir='./nuswhispersbert/results',          # output directory\n",
        "    learning_rate=2e-5,\n",
        "    num_train_epochs=4.0,            # total # of training epochs\n",
        "    per_device_train_batch_size=16,  # batch size per device during training\n",
        "    per_device_eval_batch_size=16,   # batch size for evaluation\n",
        "    warmup_ratio=0.1,                # number of warmup steps for learning rate scheduler\n",
        "    weight_decay=0.01,               # strength of weight decay\n",
        "    logging_dir='./nuswhispersbert/logs',            # directory for storing logs\n",
        "    load_best_model_at_end=True,\n",
        "    metric_for_best_model='mmae',\n",
        ")\n",
        "\n",
        "trainer = Trainer(\n",
        "    model=model,                         # the instantiated 🤗 Transformers model to be trained\n",
        "    args=training_args,                  # training arguments, defined above\n",
        "    train_dataset=train_dataset,         # training dataset\n",
        "    eval_dataset=val_dataset,            # evaluation dataset\n",
        "    tokenizer=tokenizer,\n",
        "    compute_metrics=compute_metrics\n",
        ")"
      ],
      "execution_count": null,
      "outputs": []
    },
    {
      "cell_type": "code",
      "metadata": {
        "id": "5gTfrmRi8XYN",
        "colab": {
          "base_uri": "https://localhost:8080/",
          "height": 144
        },
        "outputId": "076a98d0-f3fc-45c0-cc0f-d9162dee1139"
      },
      "source": [
        "trainer.train()"
      ],
      "execution_count": null,
      "outputs": [
        {
          "output_type": "display_data",
          "data": {
            "text/html": [
              "\n",
              "    <div>\n",
              "        <style>\n",
              "            /* Turns off some styling */\n",
              "            progress {\n",
              "                /* gets rid of default border in Firefox and Opera. */\n",
              "                border: none;\n",
              "                /* Needs to be in here for Safari polyfill so background images work as expected. */\n",
              "                background-size: auto;\n",
              "            }\n",
              "        </style>\n",
              "      \n",
              "      <progress value='884' max='884' style='width:300px; height:20px; vertical-align: middle;'></progress>\n",
              "      [884/884 14:42, Epoch 4/4]\n",
              "    </div>\n",
              "    <table border=\"1\" class=\"dataframe\">\n",
              "  <thead>\n",
              "    <tr style=\"text-align: left;\">\n",
              "      <th>Step</th>\n",
              "      <th>Training Loss</th>\n",
              "    </tr>\n",
              "  </thead>\n",
              "  <tbody>\n",
              "    <tr>\n",
              "      <td>500</td>\n",
              "      <td>1.306900</td>\n",
              "    </tr>\n",
              "  </tbody>\n",
              "</table><p>"
            ],
            "text/plain": [
              "<IPython.core.display.HTML object>"
            ]
          },
          "metadata": {
            "tags": []
          }
        },
        {
          "output_type": "execute_result",
          "data": {
            "text/plain": [
              "TrainOutput(global_step=884, training_loss=1.161138336043552, metrics={'train_runtime': 883.7104, 'train_samples_per_second': 1.0, 'total_flos': 4690316676808704.0, 'epoch': 4.0, 'init_mem_cpu_alloc_delta': 1601875968, 'init_mem_gpu_alloc_delta': 433785344, 'init_mem_cpu_peaked_delta': 0, 'init_mem_gpu_peaked_delta': 0, 'train_mem_cpu_alloc_delta': 14680064, 'train_mem_gpu_alloc_delta': 1306636800, 'train_mem_cpu_peaked_delta': 102400, 'train_mem_gpu_peaked_delta': 12996723712})"
            ]
          },
          "metadata": {
            "tags": []
          },
          "execution_count": 37
        }
      ]
    },
    {
      "cell_type": "code",
      "metadata": {
        "id": "f8CLeIXRX2nl"
      },
      "source": [
        "# save model\n",
        "save_directory = '/content/drive/MyDrive/BERT/nuswhispers_bert_4/'\n",
        "tokenizer.save_pretrained(save_directory)\n",
        "model.save_pretrained(save_directory)"
      ],
      "execution_count": null,
      "outputs": []
    },
    {
      "cell_type": "markdown",
      "metadata": {
        "id": "y6GJuZ1U-w1i"
      },
      "source": [
        "## Evaluating Model"
      ]
    },
    {
      "cell_type": "code",
      "metadata": {
        "id": "HNHe6vLr-6PG"
      },
      "source": [
        "save_directory = '/content/drive/MyDrive/BERT/nuswhispers_bert_4/'\n",
        "tokenizer = BertTokenizerFast.from_pretrained(save_directory)\n",
        "model = BertForSequenceClassification.from_pretrained(save_directory)"
      ],
      "execution_count": null,
      "outputs": []
    },
    {
      "cell_type": "code",
      "metadata": {
        "id": "zXgWB3HcAlCI"
      },
      "source": [
        "training_args = TrainingArguments(\n",
        "    output_dir='./nuswhispersbert/results',          # output directory\n",
        "    learning_rate=2e-5,\n",
        "    num_train_epochs=4.0,            # total # of training epochs\n",
        "    per_device_train_batch_size=32,  # batch size per device during training\n",
        "    per_device_eval_batch_size=32,   # batch size for evaluation\n",
        "    warmup_ratio=0.1,                # number of warmup steps for learning rate scheduler\n",
        "    weight_decay=0.01,               # strength of weight decay\n",
        "    logging_dir='./nuswhispersbert/logs',            # directory for storing logs\n",
        "    load_best_model_at_end=True,\n",
        "    metric_for_best_model='mmae',\n",
        ")\n",
        "\n",
        "trainer = Trainer(\n",
        "    model=model,                         # the instantiated 🤗 Transformers model to be trained\n",
        "    args=training_args,                  # training arguments, defined above\n",
        "    train_dataset=train_dataset,         # training dataset\n",
        "    eval_dataset=val_dataset,            # evaluation dataset\n",
        "    tokenizer=tokenizer,\n",
        "    compute_metrics=compute_metrics\n",
        ")"
      ],
      "execution_count": null,
      "outputs": []
    },
    {
      "cell_type": "code",
      "metadata": {
        "id": "1UwgmggdMrxu",
        "colab": {
          "base_uri": "https://localhost:8080/",
          "height": 289
        },
        "outputId": "9c6c9f52-6fcc-461e-cba2-815c4f281f4f"
      },
      "source": [
        "trainer.evaluate()"
      ],
      "execution_count": null,
      "outputs": [
        {
          "output_type": "display_data",
          "data": {
            "text/html": [
              "\n",
              "    <div>\n",
              "        <style>\n",
              "            /* Turns off some styling */\n",
              "            progress {\n",
              "                /* gets rid of default border in Firefox and Opera. */\n",
              "                border: none;\n",
              "                /* Needs to be in here for Safari polyfill so background images work as expected. */\n",
              "                background-size: auto;\n",
              "            }\n",
              "        </style>\n",
              "      \n",
              "      <progress value='14' max='14' style='width:300px; height:20px; vertical-align: middle;'></progress>\n",
              "      [14/14 00:07]\n",
              "    </div>\n",
              "    "
            ],
            "text/plain": [
              "<IPython.core.display.HTML object>"
            ]
          },
          "metadata": {
            "tags": []
          }
        },
        {
          "output_type": "execute_result",
          "data": {
            "text/plain": [
              "{'eval_accuracy': 0.5328798185941043,\n",
              " 'eval_f1': 0.38885340388514666,\n",
              " 'eval_loss': 1.2009128332138062,\n",
              " 'eval_mem_cpu_alloc_delta': 212992,\n",
              " 'eval_mem_cpu_peaked_delta': 57344,\n",
              " 'eval_mem_gpu_alloc_delta': 0,\n",
              " 'eval_mem_gpu_peaked_delta': 1158102016,\n",
              " 'eval_mmae': 0.9938569424333561,\n",
              " 'eval_runtime': 7.6935,\n",
              " 'eval_samples_per_second': 57.321,\n",
              " 'init_mem_cpu_alloc_delta': 0,\n",
              " 'init_mem_cpu_peaked_delta': 0,\n",
              " 'init_mem_gpu_alloc_delta': 433261056,\n",
              " 'init_mem_gpu_peaked_delta': 0}"
            ]
          },
          "metadata": {
            "tags": []
          },
          "execution_count": 41
        }
      ]
    },
    {
      "cell_type": "markdown",
      "metadata": {
        "id": "E9iNvvIjiFww"
      },
      "source": [
        "The fine-tuned BERT gave us a test f1-score of 0.417:"
      ]
    },
    {
      "cell_type": "code",
      "metadata": {
        "id": "_r3d5nI5jY25",
        "colab": {
          "base_uri": "https://localhost:8080/",
          "height": 93
        },
        "outputId": "3317ec50-3b0b-481f-885a-28f7c772e4bd"
      },
      "source": [
        "import json \n",
        "\n",
        "predictions = trainer.predict(test_dataset)\n",
        "print(predictions.metrics)\n",
        "\n",
        "predictions = trainer.predict(train_dataset)\n",
        "print(predictions.metrics)\n",
        "\n",
        "with open('results.json', 'w+') as f:\n",
        "  f.write(json.dumps(predictions.metrics))"
      ],
      "execution_count": null,
      "outputs": [
        {
          "output_type": "display_data",
          "data": {
            "text/html": [
              "\n",
              "    <div>\n",
              "        <style>\n",
              "            /* Turns off some styling */\n",
              "            progress {\n",
              "                /* gets rid of default border in Firefox and Opera. */\n",
              "                border: none;\n",
              "                /* Needs to be in here for Safari polyfill so background images work as expected. */\n",
              "                background-size: auto;\n",
              "            }\n",
              "        </style>\n",
              "      \n",
              "      <progress value='139' max='14' style='width:300px; height:20px; vertical-align: middle;'></progress>\n",
              "      [14/14 01:16]\n",
              "    </div>\n",
              "    "
            ],
            "text/plain": [
              "<IPython.core.display.HTML object>"
            ]
          },
          "metadata": {
            "tags": []
          }
        },
        {
          "output_type": "stream",
          "text": [
            "{'test_loss': 1.2712361812591553, 'test_accuracy': 0.47845804988662133, 'test_f1': 0.3880532100044295, 'test_mmae': 0.9352294855452751, 'test_runtime': 7.6823, 'test_samples_per_second': 57.405, 'test_mem_cpu_alloc_delta': -106496, 'test_mem_gpu_alloc_delta': 0, 'test_mem_cpu_peaked_delta': 106496, 'test_mem_gpu_peaked_delta': 1158102016}\n",
            "{'test_loss': 0.7560993432998657, 'test_accuracy': 0.735244040862656, 'test_f1': 0.559183220351305, 'test_mmae': 0.6762160804877511, 'test_runtime': 60.5839, 'test_samples_per_second': 58.167, 'test_mem_cpu_alloc_delta': -991232, 'test_mem_gpu_alloc_delta': 0, 'test_mem_cpu_peaked_delta': 991232, 'test_mem_gpu_peaked_delta': 1158202368}\n"
          ],
          "name": "stdout"
        }
      ]
    },
    {
      "cell_type": "markdown",
      "metadata": {
        "id": "G8lelEcX-k_l"
      },
      "source": [
        "# 2b. Extracting Contextual Embeddings of BERT Finetuned on NUSWhispers\n",
        "\n",
        "In the previous section, we made use of the finetuning approach directly on NUSWhispers. However, we did not make use of the other non-textual features that we have. Hence, we could extract the contextual embeddings of the fine-tuned model, just like we did to the pre-trained model in the first section, and use that with other features (in main.py)."
      ]
    },
    {
      "cell_type": "code",
      "metadata": {
        "id": "ou4tBaNjx4jM"
      },
      "source": [
        "from transformers import BertTokenizerFast, BertForSequenceClassification\n",
        "\n",
        "save_directory = '/content/drive/MyDrive/nuswhispers_bert/'\n",
        "tokenizer = BertTokenizerFast.from_pretrained(save_directory)\n",
        "model = BertForSequenceClassification.from_pretrained(save_directory,\n",
        "                                                      output_hidden_states=True)"
      ],
      "execution_count": null,
      "outputs": []
    },
    {
      "cell_type": "code",
      "metadata": {
        "id": "LJtc5UKb-hR9"
      },
      "source": [
        "import numpy as np\n",
        "import pandas as pd\n",
        "import torch\n",
        "import transformers\n",
        "import warnings\n",
        "warnings.filterwarnings('ignore')"
      ],
      "execution_count": null,
      "outputs": []
    },
    {
      "cell_type": "code",
      "metadata": {
        "id": "-Dn8U76O-ogY"
      },
      "source": [
        "train_dataset = load_nuswhispers_datasets(model_name, False)"
      ],
      "execution_count": null,
      "outputs": []
    },
    {
      "cell_type": "markdown",
      "metadata": {
        "id": "PqlC3SF_jA_F"
      },
      "source": [
        "Here we are extracting the embeddings produced by the final hidden layer (before the classification head), where we simply used the embeddings of each post's [CLS] token (a special token appended to the start of every text by the BERT tokenizer). There are also other strategies, e.g. average or max pooling all token's embeddings, taking the 2nd to last hidden layer's embeddings instead of the last, or even pooling the last 4 hidden layers."
      ]
    },
    {
      "cell_type": "code",
      "metadata": {
        "id": "7dfCIVBr-u5d"
      },
      "source": [
        "def generate_embedding(x):\n",
        "  inputs = {\n",
        "    \"input_ids\": torch.tensor(x['input_ids']).unsqueeze(0),\n",
        "    \"attention_mask\": torch.tensor(x['attention_mask']).unsqueeze(0),\n",
        "  }\n",
        "\n",
        "  with torch.no_grad():\n",
        "    output = model(**inputs)\n",
        "    logits = output[0]\n",
        "    hidden_states = output[1]\n",
        "    last_hidden_state = hidden_states[1] # layer right before the classification head\n",
        "  # Get [CLS] embedding\n",
        "  features = last_hidden_state[:,0,:].numpy()\n",
        "\n",
        "  return features\n",
        "\n",
        "df = train_dataset.to_pandas()\n",
        "embeddings = df.apply(generate_embedding, axis=1)"
      ],
      "execution_count": null,
      "outputs": []
    },
    {
      "cell_type": "code",
      "metadata": {
        "id": "iqViGDARDu6C"
      },
      "source": [
        "# sanity check\n",
        "# b = generate_embedding(df.iloc[0])\n",
        "# c = generate_embedding(df.iloc[100])\n",
        "# c[1][1][:,0,:] - b[1][1][:,0,:]"
      ],
      "execution_count": null,
      "outputs": []
    },
    {
      "cell_type": "code",
      "metadata": {
        "id": "lebm0Q5rOpb7"
      },
      "source": [
        "embeddings"
      ],
      "execution_count": null,
      "outputs": []
    },
    {
      "cell_type": "code",
      "metadata": {
        "id": "RtcV4zhY3hNs"
      },
      "source": [
        "embeddings.to_csv('drive/MyDrive/nw_bert_embeddings.csv')"
      ],
      "execution_count": null,
      "outputs": []
    },
    {
      "cell_type": "markdown",
      "metadata": {
        "id": "NVUC1sivPTxK"
      },
      "source": [
        "# 3. Further Pre-Training BERT on GoEmotion\n",
        "\n",
        "In this section, we explore the idea of further pre-training the original pre-trained BERT model. As the original model was pre-trained on English Wikipedia and BooksCorpus, it might not have been able to capture the distributional statistics of our target domain, i.e. social media (Facebook posts), which tend to have more informal language.\n",
        "\n",
        "Hence, we could further pre-train using the goemotions dataset which contains a pretty large (200k examples) set of Reddit posts, on the masked language modelling task.\n",
        "\n",
        "We hypothesize that by tuning the language model to better fit the target domain, the performance of the downstream task (sentiment analysis on NUSWhispers) could be improved.\n",
        "\n",
        "Refererences: \n",
        "- https://github.com/huggingface/transformers/tree/master/examples: \n",
        "- https://huggingface.co/blog/pytorch-xla"
      ]
    },
    {
      "cell_type": "markdown",
      "metadata": {
        "id": "Zs0e7alhQJfM"
      },
      "source": [
        "To speed up the pre-training process, please change the colab's runtime to make use of TPU."
      ]
    },
    {
      "cell_type": "code",
      "metadata": {
        "id": "YMhrceLyVocr"
      },
      "source": [
        "import os\n",
        "assert os.environ['COLAB_TPU_ADDR'], 'Make sure to select TPU from Edit > Notebook settings > Hardware accelerator'\n",
        "\n",
        "!pip install -U git+https://github.com/huggingface/transformers\n",
        "\n",
        "!pip install datasets\n",
        "\n",
        "# Install Colab TPU compatible PyTorch/TPU wheels and dependencies\n",
        "!pip install cloud-tpu-client==0.10 https://storage.googleapis.com/tpu-pytorch/wheels/torch_xla-1.8-cp37-cp37m-linux_x86_64.whl"
      ],
      "execution_count": null,
      "outputs": []
    },
    {
      "cell_type": "code",
      "metadata": {
        "id": "1HN5kXJpPnUs"
      },
      "source": [
        "!wget https://raw.githubusercontent.com/huggingface/transformers/master/examples/language-modeling/run_mlm.py\n",
        "!wget https://raw.githubusercontent.com/huggingface/transformers/master/examples/xla_spawn.py\n",
        "!wget -P goemotions_data/ https://storage.googleapis.com/gresearch/goemotions/data/full_dataset/goemotions_1.csv\n",
        "!wget -P goemotions_data/ https://storage.googleapis.com/gresearch/goemotions/data/full_dataset/goemotions_2.csv\n",
        "!wget -P goemotions_data/ https://storage.googleapis.com/gresearch/goemotions/data/full_dataset/goemotions_3.csv"
      ],
      "execution_count": null,
      "outputs": []
    },
    {
      "cell_type": "code",
      "metadata": {
        "id": "yz0g2HjaQKsw"
      },
      "source": [
        "# from transformers import BertTokenizerFast\n",
        "from datasets import load_dataset\n",
        "\n",
        "train_dataset = load_dataset('csv', data_files=[\n",
        "                                     'goemotions_data/goemotions_1.csv',\n",
        "                                     'goemotions_data/goemotions_2.csv',\n",
        "                                     'goemotions_data/goemotions_3.csv'])\n",
        "with open('goemotions_corpus.txt','w+') as f:\n",
        "  corpus='\\n'.join(train_dataset['train']['text'])\n",
        "  f.write(corpus)"
      ],
      "execution_count": null,
      "outputs": []
    },
    {
      "cell_type": "code",
      "metadata": {
        "id": "DgShn2XMbmF8"
      },
      "source": [
        "# set up TPU\n",
        "import tensorflow as tf\n",
        "import os\n",
        "\n",
        "# Note that the `tpu` argument is for Colab-only\n",
        "resolver = tf.distribute.cluster_resolver.TPUClusterResolver(tpu='grpc://' + os.environ['COLAB_TPU_ADDR'])\n",
        "\n",
        "tf.config.experimental_connect_to_cluster(resolver)\n",
        "tf.tpu.experimental.initialize_tpu_system(resolver)\n",
        "print(\"All devices: \", tf.config.list_logical_devices('TPU'))\n",
        "\n",
        "# strategy = tf.distribute.TPUStrategy(resolver)"
      ],
      "execution_count": null,
      "outputs": []
    },
    {
      "cell_type": "code",
      "metadata": {
        "id": "DfvEPVHhTEg5"
      },
      "source": [
        "!export TPU_IP_ADDRESS=\"10.75.235.170\"  # ex. 10.0.0.2\n",
        "!export XRT_TPU_CONFIG=\"tpu_worker;0;$TPU_IP_ADDRESS:8470\"\n",
        "\n",
        "# !python run_mlm.py \\\n",
        "#     --model_name_or_path bert-base-cased \\\n",
        "#     --train_file goemotions_corpus.txt \\\n",
        "#     --do_train \\\n",
        "#     --line_by_line \\\n",
        "#     --output_dir goemo-mlm\n",
        "\n",
        "!python xla_spawn.py \\\n",
        "  run_mlm.py \\\n",
        "  --model_name_or_path bert-base-cased \\\n",
        "  --train_file goemotions_corpus.txt \\\n",
        "  --do_train \\\n",
        "  --line_by_line \\\n",
        "  --pad_to_max_length \\\n",
        "  --output_dir /content/drive/MyDrive/goemo-mlm \\\n",
        "  --cache_dir cache_dir \\\n",
        "  --overwrite_cache \\\n",
        "  --tpu_metrics_debug \\\n",
        "  --save_steps 20000\n",
        "  # --overwrite_output_dir \\\n",
        "  # --num_train_epochs 3 \\\n",
        "  # --per_device_train_batch_size 8 \\\n",
        "  # --per_device_eval_batch_size 8 \\\n",
        "  "
      ],
      "execution_count": null,
      "outputs": []
    },
    {
      "cell_type": "markdown",
      "metadata": {
        "id": "_4vweArYUR3d"
      },
      "source": [
        "# 3b. Finetuning Go-Emotions Pre-Trained BERT on NUSWhispers\n",
        "\n",
        " *Remember to change runtime back to GPU*"
      ]
    },
    {
      "cell_type": "code",
      "metadata": {
        "id": "qucqkELKTSfz"
      },
      "source": [
        "model_name = '/content/drive/MyDrive/BERT/goemo-mlm'\n",
        "num_labels = 5"
      ],
      "execution_count": 13,
      "outputs": []
    },
    {
      "cell_type": "code",
      "metadata": {
        "id": "DB0-_EUlaVR7",
        "colab": {
          "base_uri": "https://localhost:8080/",
          "height": 167,
          "referenced_widgets": [
            "f08e8af3d7e648cebd024d99a505e11b",
            "8be01d08cb884758baf02e5a05c58fe7",
            "e82c54b2d26742ada9efa49dd0df8cc1",
            "c78f3d811f5842c0bb450f05c299a547",
            "73d59cb34d64466b897e55a6b231b8ff",
            "b2b549a9e91348c088e0e26ce39814c5",
            "96cee0e987904ed396ce923f6212df35",
            "19f5b92693a04297a16a5d83341b5a28",
            "c664ac111df54a8eb83439ccaded84a3",
            "5ea5fdd2a52d446d9e66b7b7c5f95516",
            "18607525464242809fe0de0d232260a6",
            "f8fba0e5590a46369476413c6ab356e7",
            "78b1df045250445da54b08d0176d4143",
            "5f85c3d53a59473e9207f597a9148eb5",
            "4ba49ec8aac444bcba0c993cf8d0022f",
            "53df33d532664662b50ad976e578297f",
            "cf0c41f05725427aabfe81328106f493",
            "6f9a2e76885344508b3ac47fcab7df94",
            "ce60a9133c4248ab9d3cd0a30fb8f725",
            "cd06638e8d3645d19af3dbb4b66aad40",
            "c56460f2a17742e29b326fe0a6ad191f",
            "d22f4edcc74345e19a0dbd2b230e0ba3",
            "75a724e1e83c4380a945a1e9e50f4555",
            "3e52b0ff9dd64c3abb694f337ddb7da0"
          ]
        },
        "outputId": "b593318c-83be-4ff3-ac46-f8106832fb14"
      },
      "source": [
        "train_dataset, val_dataset, test_dataset = load_nuswhispers_datasets(model_name)"
      ],
      "execution_count": 14,
      "outputs": [
        {
          "output_type": "display_data",
          "data": {
            "application/vnd.jupyter.widget-view+json": {
              "model_id": "f08e8af3d7e648cebd024d99a505e11b",
              "version_minor": 0,
              "version_major": 2
            },
            "text/plain": [
              "HBox(children=(FloatProgress(value=0.0, max=4.0), HTML(value='')))"
            ]
          },
          "metadata": {
            "tags": []
          }
        },
        {
          "output_type": "stream",
          "text": [
            "\n"
          ],
          "name": "stdout"
        },
        {
          "output_type": "display_data",
          "data": {
            "application/vnd.jupyter.widget-view+json": {
              "model_id": "c664ac111df54a8eb83439ccaded84a3",
              "version_minor": 0,
              "version_major": 2
            },
            "text/plain": [
              "HBox(children=(FloatProgress(value=0.0, max=1.0), HTML(value='')))"
            ]
          },
          "metadata": {
            "tags": []
          }
        },
        {
          "output_type": "stream",
          "text": [
            "\n"
          ],
          "name": "stdout"
        },
        {
          "output_type": "display_data",
          "data": {
            "application/vnd.jupyter.widget-view+json": {
              "model_id": "cf0c41f05725427aabfe81328106f493",
              "version_minor": 0,
              "version_major": 2
            },
            "text/plain": [
              "HBox(children=(FloatProgress(value=0.0, max=1.0), HTML(value='')))"
            ]
          },
          "metadata": {
            "tags": []
          }
        },
        {
          "output_type": "stream",
          "text": [
            "\n"
          ],
          "name": "stdout"
        }
      ]
    },
    {
      "cell_type": "code",
      "metadata": {
        "id": "ZbnieT9NTMoj",
        "colab": {
          "base_uri": "https://localhost:8080/"
        },
        "outputId": "07ba18ad-07bb-41d1-8196-9371a2ea71b0"
      },
      "source": [
        "model = pt_bert(model_name, num_labels, True)"
      ],
      "execution_count": null,
      "outputs": [
        {
          "output_type": "stream",
          "text": [
            "Some weights of the model checkpoint at /content/drive/MyDrive/BERT/goemo-mlm were not used when initializing BertForSequenceClassification: ['cls.predictions.bias', 'cls.predictions.transform.dense.weight', 'cls.predictions.transform.dense.bias', 'cls.predictions.transform.LayerNorm.weight', 'cls.predictions.transform.LayerNorm.bias', 'cls.predictions.decoder.weight', 'cls.predictions.decoder.bias']\n",
            "- This IS expected if you are initializing BertForSequenceClassification from the checkpoint of a model trained on another task or with another architecture (e.g. initializing a BertForSequenceClassification model from a BertForPreTraining model).\n",
            "- This IS NOT expected if you are initializing BertForSequenceClassification from the checkpoint of a model that you expect to be exactly identical (initializing a BertForSequenceClassification model from a BertForSequenceClassification model).\n",
            "Some weights of BertForSequenceClassification were not initialized from the model checkpoint at /content/drive/MyDrive/BERT/goemo-mlm and are newly initialized: ['bert.pooler.dense.weight', 'bert.pooler.dense.bias', 'classifier.weight', 'classifier.bias']\n",
            "You should probably TRAIN this model on a down-stream task to be able to use it for predictions and inference.\n"
          ],
          "name": "stderr"
        }
      ]
    },
    {
      "cell_type": "code",
      "metadata": {
        "id": "SFD2u9HoTZ9u"
      },
      "source": [
        "training_args = TrainingArguments(\n",
        "    output_dir='./genwbert/results',          # output directory\n",
        "    learning_rate=2e-5,\n",
        "    num_train_epochs=4.0,            # total # of training epochs\n",
        "    per_device_train_batch_size=16,  # batch size per device during training\n",
        "    per_device_eval_batch_size=16,   # batch size for evaluation\n",
        "    warmup_ratio=0.1,                # number of warmup steps for learning rate scheduler\n",
        "    weight_decay=0.01,               # strength of weight decay\n",
        "    logging_dir='./genwbert/logs',            # directory for storing logs\n",
        "    load_best_model_at_end=True,\n",
        "    metric_for_best_model='mmae',\n",
        ")\n",
        "\n",
        "trainer = Trainer(\n",
        "    model=model,                         # the instantiated 🤗 Transformers model to be trained\n",
        "    args=training_args,                  # training arguments, defined above\n",
        "    train_dataset=train_dataset,         # training dataset\n",
        "    eval_dataset=val_dataset,            # evaluation dataset\n",
        "    tokenizer=tokenizer,\n",
        "    compute_metrics=compute_metrics\n",
        ")"
      ],
      "execution_count": null,
      "outputs": []
    },
    {
      "cell_type": "code",
      "metadata": {
        "id": "U-5NuSG_AVib",
        "colab": {
          "base_uri": "https://localhost:8080/",
          "height": 144
        },
        "outputId": "2503cc5e-b874-4b8e-acf0-0024bfd8d62b"
      },
      "source": [
        "trainer.train()"
      ],
      "execution_count": null,
      "outputs": [
        {
          "output_type": "display_data",
          "data": {
            "text/html": [
              "\n",
              "    <div>\n",
              "        <style>\n",
              "            /* Turns off some styling */\n",
              "            progress {\n",
              "                /* gets rid of default border in Firefox and Opera. */\n",
              "                border: none;\n",
              "                /* Needs to be in here for Safari polyfill so background images work as expected. */\n",
              "                background-size: auto;\n",
              "            }\n",
              "        </style>\n",
              "      \n",
              "      <progress value='884' max='884' style='width:300px; height:20px; vertical-align: middle;'></progress>\n",
              "      [884/884 14:45, Epoch 4/4]\n",
              "    </div>\n",
              "    <table border=\"1\" class=\"dataframe\">\n",
              "  <thead>\n",
              "    <tr style=\"text-align: left;\">\n",
              "      <th>Step</th>\n",
              "      <th>Training Loss</th>\n",
              "    </tr>\n",
              "  </thead>\n",
              "  <tbody>\n",
              "    <tr>\n",
              "      <td>500</td>\n",
              "      <td>1.258300</td>\n",
              "    </tr>\n",
              "  </tbody>\n",
              "</table><p>"
            ],
            "text/plain": [
              "<IPython.core.display.HTML object>"
            ]
          },
          "metadata": {
            "tags": []
          }
        },
        {
          "output_type": "execute_result",
          "data": {
            "text/plain": [
              "TrainOutput(global_step=884, training_loss=1.1015982649444995, metrics={'train_runtime': 886.6579, 'train_samples_per_second': 0.997, 'total_flos': 4690316676808704.0, 'epoch': 4.0, 'init_mem_cpu_alloc_delta': 233472, 'init_mem_gpu_alloc_delta': 433261056, 'init_mem_cpu_peaked_delta': 0, 'init_mem_gpu_peaked_delta': 0, 'train_mem_cpu_alloc_delta': -15060992, 'train_mem_gpu_alloc_delta': 1307685376, 'train_mem_cpu_peaked_delta': 15069184, 'train_mem_gpu_peaked_delta': 12996723712})"
            ]
          },
          "metadata": {
            "tags": []
          },
          "execution_count": 47
        }
      ]
    },
    {
      "cell_type": "code",
      "metadata": {
        "id": "OKf7kGP4TlNt"
      },
      "source": [
        "# save model\n",
        "save_directory = '/content/drive/MyDrive/BERT/ge_nw_bert_4/'\n",
        "tokenizer.save_pretrained(save_directory)\n",
        "model.save_pretrained(save_directory)"
      ],
      "execution_count": null,
      "outputs": []
    },
    {
      "cell_type": "markdown",
      "metadata": {
        "id": "GPpsNgahATLh"
      },
      "source": [
        "## Evaluating Model"
      ]
    },
    {
      "cell_type": "code",
      "metadata": {
        "id": "DyDFcpZdATLk"
      },
      "source": [
        "save_directory = '/content/drive/MyDrive/BERT/ge_nw_bert/'\n",
        "tokenizer = BertTokenizerFast.from_pretrained(save_directory)\n",
        "model = BertForSequenceClassification.from_pretrained(save_directory)"
      ],
      "execution_count": 15,
      "outputs": []
    },
    {
      "cell_type": "code",
      "metadata": {
        "id": "Y5m7gTuPAgVs"
      },
      "source": [
        "training_args = TrainingArguments(\n",
        "    output_dir='./genwbert/results',          # output directory\n",
        "    learning_rate=2e-5,\n",
        "    num_train_epochs=4.0,            # total # of training epochs\n",
        "    per_device_train_batch_size=8,  # batch size per device during training\n",
        "    per_device_eval_batch_size=8,   # batch size for evaluation\n",
        "    warmup_ratio=0.1,                # number of warmup steps for learning rate scheduler\n",
        "    weight_decay=0.01,               # strength of weight decay\n",
        "    logging_dir='./genwbert/logs',            # directory for storing logs\n",
        "    load_best_model_at_end=True,\n",
        "    metric_for_best_model='mmae',\n",
        ")\n",
        "\n",
        "trainer = Trainer(\n",
        "    model=model,                         # the instantiated 🤗 Transformers model to be trained\n",
        "    args=training_args,                  # training arguments, defined above\n",
        "    train_dataset=train_dataset,         # training dataset\n",
        "    eval_dataset=val_dataset,            # evaluation dataset\n",
        "    tokenizer=tokenizer,\n",
        "    compute_metrics=compute_metrics\n",
        ")"
      ],
      "execution_count": 16,
      "outputs": []
    },
    {
      "cell_type": "code",
      "metadata": {
        "id": "fhhPwJCSATLk",
        "colab": {
          "base_uri": "https://localhost:8080/",
          "height": 289
        },
        "outputId": "37b26d88-41a1-471b-8631-aac6b3b4f87b"
      },
      "source": [
        "trainer.evaluate()"
      ],
      "execution_count": 17,
      "outputs": [
        {
          "output_type": "display_data",
          "data": {
            "text/html": [
              "\n",
              "    <div>\n",
              "        <style>\n",
              "            /* Turns off some styling */\n",
              "            progress {\n",
              "                /* gets rid of default border in Firefox and Opera. */\n",
              "                border: none;\n",
              "                /* Needs to be in here for Safari polyfill so background images work as expected. */\n",
              "                background-size: auto;\n",
              "            }\n",
              "        </style>\n",
              "      \n",
              "      <progress value='56' max='56' style='width:300px; height:20px; vertical-align: middle;'></progress>\n",
              "      [56/56 00:04]\n",
              "    </div>\n",
              "    "
            ],
            "text/plain": [
              "<IPython.core.display.HTML object>"
            ]
          },
          "metadata": {
            "tags": []
          }
        },
        {
          "output_type": "execute_result",
          "data": {
            "text/plain": [
              "{'eval_accuracy': 0.5374149659863946,\n",
              " 'eval_f1': 0.40829767690940344,\n",
              " 'eval_loss': 1.405295968055725,\n",
              " 'eval_mem_cpu_alloc_delta': 15712256,\n",
              " 'eval_mem_cpu_peaked_delta': 0,\n",
              " 'eval_mem_gpu_alloc_delta': 0,\n",
              " 'eval_mem_gpu_peaked_delta': 289538560,\n",
              " 'eval_mmae': 0.9562261477557531,\n",
              " 'eval_runtime': 4.4204,\n",
              " 'eval_samples_per_second': 99.765,\n",
              " 'init_mem_cpu_alloc_delta': 2284666880,\n",
              " 'init_mem_cpu_peaked_delta': 0,\n",
              " 'init_mem_gpu_alloc_delta': 433785344,\n",
              " 'init_mem_gpu_peaked_delta': 0}"
            ]
          },
          "metadata": {
            "tags": []
          },
          "execution_count": 17
        }
      ]
    },
    {
      "cell_type": "code",
      "metadata": {
        "id": "ugzcQ1nCATLl",
        "colab": {
          "base_uri": "https://localhost:8080/",
          "height": 93
        },
        "outputId": "390dade5-063a-4d81-eb9a-e0333f4a3e29"
      },
      "source": [
        "import json \n",
        "\n",
        "predictions = trainer.predict(test_dataset)\n",
        "print(predictions.metrics)\n",
        "\n",
        "predictions = trainer.predict(train_dataset)\n",
        "print(predictions.metrics)\n",
        "\n",
        "with open('results.json', 'w+') as f:\n",
        "  f.write(json.dumps(predictions.metrics))"
      ],
      "execution_count": 18,
      "outputs": [
        {
          "output_type": "display_data",
          "data": {
            "text/html": [
              "\n",
              "    <div>\n",
              "        <style>\n",
              "            /* Turns off some styling */\n",
              "            progress {\n",
              "                /* gets rid of default border in Firefox and Opera. */\n",
              "                border: none;\n",
              "                /* Needs to be in here for Safari polyfill so background images work as expected. */\n",
              "                background-size: auto;\n",
              "            }\n",
              "        </style>\n",
              "      \n",
              "      <progress value='553' max='56' style='width:300px; height:20px; vertical-align: middle;'></progress>\n",
              "      [56/56 00:44]\n",
              "    </div>\n",
              "    "
            ],
            "text/plain": [
              "<IPython.core.display.HTML object>"
            ]
          },
          "metadata": {
            "tags": []
          }
        },
        {
          "output_type": "stream",
          "text": [
            "{'test_loss': 1.3832088708877563, 'test_accuracy': 0.5351473922902494, 'test_f1': 0.44770590825570683, 'test_mmae': 0.8835424086019342, 'test_runtime': 4.3802, 'test_samples_per_second': 100.679, 'test_mem_cpu_alloc_delta': 0, 'test_mem_gpu_alloc_delta': 0, 'test_mem_cpu_peaked_delta': 0, 'test_mem_gpu_peaked_delta': 352449536}\n",
            "{'test_loss': 0.3723626136779785, 'test_accuracy': 0.8743262411347518, 'test_f1': 0.7991449824340742, 'test_mmae': 0.3040950670389341, 'test_runtime': 34.9494, 'test_samples_per_second': 100.86, 'test_mem_cpu_alloc_delta': -4096, 'test_mem_gpu_alloc_delta': 0, 'test_mem_cpu_peaked_delta': 4096, 'test_mem_gpu_peaked_delta': 465791488}\n"
          ],
          "name": "stdout"
        }
      ]
    },
    {
      "cell_type": "markdown",
      "metadata": {
        "id": "CAZZ2zV2l7Gk"
      },
      "source": [
        "### Confusion Matrix:"
      ]
    },
    {
      "cell_type": "code",
      "metadata": {
        "id": "gp6hEUbf4f-r",
        "colab": {
          "base_uri": "https://localhost:8080/",
          "height": 462
        },
        "outputId": "686d8450-f03e-4091-d520-1a6fc89394e8"
      },
      "source": [
        "from sklearn.metrics import confusion_matrix, f1_score\n",
        "import seaborn as sn\n",
        "import matplotlib.pyplot as plt\n",
        "import pandas as pd\n",
        "\n",
        "labels = [0,1,2,3,4]\n",
        "cm = confusion_matrix(np.array(test_dataset['label']), np.argmax(predictions.predictions, axis=1), labels = labels)\n",
        "\n",
        "fig = plt.figure(figsize = (10,7))\n",
        "ax = fig.add_subplot(111)\n",
        "sn.set(font_scale=1.4) # for label size\n",
        "plt.title('BERT Confusion Matrix')\n",
        "sn.heatmap(cm, annot=True,annot_kws={\"size\": 16}, fmt='g', cmap='Blues_r', ax = ax)\n",
        "ax.set_xlabel('Predicted')\n",
        "ax.set_ylabel('True')\n",
        "plt.show()"
      ],
      "execution_count": 67,
      "outputs": [
        {
          "output_type": "display_data",
          "data": {
            "image/png": "[encoded data removed]",
            "text/plain": [
              "<Figure size 720x504 with 2 Axes>"
            ]
          },
          "metadata": {
            "tags": [],
            "needs_background": "light"
          }
        }
      ]
    },
    {
      "cell_type": "code",
      "metadata": {
        "id": "P8OsHEzqMYOt"
      },
      "source": [
        "df = pd.DataFrame(np.column_stack([\n",
        "                      np.array(test_dataset['text']), \n",
        "                      np.array(test_dataset['label']), \n",
        "                      np.argmax(predictions.predictions, axis=1),\n",
        "                      np.array(torch.count_nonzero(test_dataset['input_ids'], dim=1))\n",
        "                    ]),\n",
        "                  columns=['text', 'actual', 'predicted', 'token_length']\n",
        "                  )\n",
        "df['is_correct'] = df['actual'] == df['predicted']\n",
        "df['token_length'] = df['token_length'].astype('int')"
      ],
      "execution_count": 49,
      "outputs": []
    },
    {
      "cell_type": "markdown",
      "metadata": {
        "id": "JkTLCRnpl9ao"
      },
      "source": [
        "### Average number of tokens for correct classifications vs misclassifications:"
      ]
    },
    {
      "cell_type": "code",
      "metadata": {
        "colab": {
          "base_uri": "https://localhost:8080/",
          "height": 111
        },
        "id": "1AtiSD7KUbhs",
        "outputId": "9b4c0792-b13f-44f6-f3e1-31c86c24b738"
      },
      "source": [
        "df.groupby('is_correct').mean().reset_index()"
      ],
      "execution_count": 58,
      "outputs": [
        {
          "output_type": "execute_result",
          "data": {
            "text/html": [
              "<div>\n",
              "<style scoped>\n",
              "    .dataframe tbody tr th:only-of-type {\n",
              "        vertical-align: middle;\n",
              "    }\n",
              "\n",
              "    .dataframe tbody tr th {\n",
              "        vertical-align: top;\n",
              "    }\n",
              "\n",
              "    .dataframe thead th {\n",
              "        text-align: right;\n",
              "    }\n",
              "</style>\n",
              "<table border=\"1\" class=\"dataframe\">\n",
              "  <thead>\n",
              "    <tr style=\"text-align: right;\">\n",
              "      <th></th>\n",
              "      <th>is_correct</th>\n",
              "      <th>token_length</th>\n",
              "    </tr>\n",
              "  </thead>\n",
              "  <tbody>\n",
              "    <tr>\n",
              "      <th>0</th>\n",
              "      <td>False</td>\n",
              "      <td>194.653659</td>\n",
              "    </tr>\n",
              "    <tr>\n",
              "      <th>1</th>\n",
              "      <td>True</td>\n",
              "      <td>164.737288</td>\n",
              "    </tr>\n",
              "  </tbody>\n",
              "</table>\n",
              "</div>"
            ],
            "text/plain": [
              "   is_correct  token_length\n",
              "0       False    194.653659\n",
              "1        True    164.737288"
            ]
          },
          "metadata": {
            "tags": []
          },
          "execution_count": 58
        }
      ]
    },
    {
      "cell_type": "markdown",
      "metadata": {
        "id": "zy1YLvNTmC-B"
      },
      "source": [
        "### Sarcasm misclassification:"
      ]
    },
    {
      "cell_type": "code",
      "metadata": {
        "colab": {
          "base_uri": "https://localhost:8080/",
          "height": 80
        },
        "id": "uL1JiZ_Ulpjp",
        "outputId": "86fa3e8b-d01e-403a-9b92-e9f071ba1c6e"
      },
      "source": [
        "df[df['text'] == \"World class uni with the bus service of a 3rd world country\"]"
      ],
      "execution_count": 59,
      "outputs": [
        {
          "output_type": "execute_result",
          "data": {
            "text/html": [
              "<div>\n",
              "<style scoped>\n",
              "    .dataframe tbody tr th:only-of-type {\n",
              "        vertical-align: middle;\n",
              "    }\n",
              "\n",
              "    .dataframe tbody tr th {\n",
              "        vertical-align: top;\n",
              "    }\n",
              "\n",
              "    .dataframe thead th {\n",
              "        text-align: right;\n",
              "    }\n",
              "</style>\n",
              "<table border=\"1\" class=\"dataframe\">\n",
              "  <thead>\n",
              "    <tr style=\"text-align: right;\">\n",
              "      <th></th>\n",
              "      <th>text</th>\n",
              "      <th>actual</th>\n",
              "      <th>predicted</th>\n",
              "      <th>token_length</th>\n",
              "      <th>is_correct</th>\n",
              "    </tr>\n",
              "  </thead>\n",
              "  <tbody>\n",
              "    <tr>\n",
              "      <th>266</th>\n",
              "      <td>World class uni with the bus service of a 3rd ...</td>\n",
              "      <td>1</td>\n",
              "      <td>0</td>\n",
              "      <td>15</td>\n",
              "      <td>False</td>\n",
              "    </tr>\n",
              "  </tbody>\n",
              "</table>\n",
              "</div>"
            ],
            "text/plain": [
              "                                                  text  ... is_correct\n",
              "266  World class uni with the bus service of a 3rd ...  ...      False\n",
              "\n",
              "[1 rows x 5 columns]"
            ]
          },
          "metadata": {
            "tags": []
          },
          "execution_count": 59
        }
      ]
    },
    {
      "cell_type": "markdown",
      "metadata": {
        "id": "pddsCiammGOB"
      },
      "source": [
        "### Long posts - transition of emotional state from annoyance (2) to anger (4):"
      ]
    },
    {
      "cell_type": "code",
      "metadata": {
        "id": "CuAZnceDPARK"
      },
      "source": [
        "confused_4_to_2 = list(df[(df['predicted'] == '2') & (df['actual'] == '4')]['text'])"
      ],
      "execution_count": 60,
      "outputs": []
    },
    {
      "cell_type": "code",
      "metadata": {
        "id": "K30uvQdTPm6L",
        "colab": {
          "base_uri": "https://localhost:8080/",
          "height": 144
        },
        "outputId": "94f69f8d-626a-4fda-beab-188853cc6b6c"
      },
      "source": [
        "confused_4_to_2[5]"
      ],
      "execution_count": 66,
      "outputs": [
        {
          "output_type": "execute_result",
          "data": {
            "application/vnd.google.colaboratory.intrinsic+json": {
              "type": "string"
            },
            "text/plain": [
              "'I have an increasingly tense relationship with my mom Not to say whos right or wrong but just that both of us are really on different frequencies she cant understand my needs nor can I understand hers And when I do things that are different from what she thinks just attending to my own matters nothing to do with her at all she immediately starts to get frustrated and hides me for not doing it the simpler way which isnt necessarily the case because I have my own considerations Ive been trying badly to hold in my rage for many years now but am reaching my capacity I want to leave this house really badly and want to keep my distance from her but I dont have the means to do significant other Once I get the opportunity too I will make sure I do I am significant other incredibly angry with our situation'"
            ]
          },
          "metadata": {
            "tags": []
          },
          "execution_count": 66
        }
      ]
    },
    {
      "cell_type": "markdown",
      "metadata": {
        "id": "nDNlyneJTxhq"
      },
      "source": [
        "# 3c. Extracting Contextual Embeddings of Go-Emotions Pre-Trained & NUSWhispers Fine-Tuned BERT\n"
      ]
    },
    {
      "cell_type": "code",
      "metadata": {
        "id": "Iu_vspCiTxhs"
      },
      "source": [
        "save_directory = '/content/drive/MyDrive/ge_nw_bert/'\n",
        "tokenizer = BertTokenizerFast.from_pretrained(save_directory)\n",
        "model = BertForSequenceClassification.from_pretrained(save_directory,\n",
        "                                                      output_hidden_states=True)"
      ],
      "execution_count": null,
      "outputs": []
    },
    {
      "cell_type": "code",
      "metadata": {
        "id": "_JRjtPuWTxht"
      },
      "source": [
        "train_dataset = load_nuswhispers_datasets(model_name)"
      ],
      "execution_count": null,
      "outputs": []
    },
    {
      "cell_type": "markdown",
      "metadata": {
        "id": "tPdjv6qmTxht"
      },
      "source": [
        "Here we are extracting the embeddings produced by the final hidden layer (before the classification head), where we simply used the embeddings of each post's [CLS] token (a special token appended to the start of every text by the BERT tokenizer). There are also other strategies, e.g. average or max pooling all token's embeddings, taking the 2nd to last hidden layer's embeddings instead of the last, or even pooling the last 4 hidden layers."
      ]
    },
    {
      "cell_type": "code",
      "metadata": {
        "id": "-S2XSZ_vTxht"
      },
      "source": [
        "def generate_embedding(x):\n",
        "  inputs = {\n",
        "    \"input_ids\": torch.tensor(x['input_ids']).unsqueeze(0),\n",
        "    \"attention_mask\": torch.tensor(x['attention_mask']).unsqueeze(0),\n",
        "  }\n",
        "\n",
        "  with torch.no_grad():\n",
        "    output = model(**inputs)\n",
        "    logits = output[0]\n",
        "    hidden_states = output[1]\n",
        "    last_hidden_state = hidden_states[1] # layer right before the classification head\n",
        "  # Get [CLS] embedding\n",
        "  features = last_hidden_state[:,0,:].numpy()\n",
        "\n",
        "  return features\n",
        "\n",
        "df = train_dataset.to_pandas()\n",
        "embeddings = df.apply(generate_embedding, axis=1)"
      ],
      "execution_count": null,
      "outputs": []
    },
    {
      "cell_type": "code",
      "metadata": {
        "id": "m6RVTO1gTxhu"
      },
      "source": [
        "# sanity check\n",
        "# b = generate_embedding(df.iloc[0])\n",
        "# c = generate_embedding(df.iloc[100])\n",
        "# c[1][1][:,0,:] - b[1][1][:,0,:]"
      ],
      "execution_count": null,
      "outputs": []
    },
    {
      "cell_type": "code",
      "metadata": {
        "id": "Cd5WX3wKTxhu"
      },
      "source": [
        "embeddings"
      ],
      "execution_count": null,
      "outputs": []
    },
    {
      "cell_type": "code",
      "metadata": {
        "id": "IPUk4duCTxhu"
      },
      "source": [
        "embeddings.to_csv('drive/MyDrive/ge_nw_bert_embeddings.csv')"
      ],
      "execution_count": null,
      "outputs": []
    },
    {
      "cell_type": "markdown",
      "metadata": {
        "id": "Ur33E_9qhXfR"
      },
      "source": [
        "# Extending BERT with Other Numerical Features"
      ]
    },
    {
      "cell_type": "code",
      "metadata": {
        "id": "JaEVpmhshWQN"
      },
      "source": [
        "train_dataset, val_dataset, test_dataset = load_nuswhispers_datasets(model_name)"
      ],
      "execution_count": null,
      "outputs": []
    },
    {
      "cell_type": "code",
      "metadata": {
        "id": "2BbNDleA8MXr"
      },
      "source": [
        "model = pt_bert_extended(model_name, num_labels, True)"
      ],
      "execution_count": null,
      "outputs": []
    },
    {
      "cell_type": "code",
      "metadata": {
        "id": "UJ2mB4rF8VvH"
      },
      "source": [
        "# training_args = TrainingArguments(\n",
        "#     output_dir='./nuswhispersbert/results',          # output directory\n",
        "#     learning_rate=2e-5,\n",
        "#     num_train_epochs=4.0,            # total # of training epochs\n",
        "#     per_device_train_batch_size=16,  # batch size per device during training\n",
        "#     per_device_eval_batch_size=16,   # batch size for evaluation\n",
        "#     warmup_ratio=0.1,                # number of warmup steps for learning rate scheduler\n",
        "#     weight_decay=0.01,               # strength of weight decay\n",
        "#     logging_dir='./nuswhispersbert/logs',            # directory for storing logs\n",
        "#     load_best_model_at_end=True,\n",
        "#     metric_for_best_model='f1',\n",
        "# )\n",
        "\n",
        "# trainer = Trainer(\n",
        "#     model=model,                         # the instantiated 🤗 Transformers model to be trained\n",
        "#     args=training_args,                  # training arguments, defined above\n",
        "#     train_dataset=train_dataset,         # training dataset\n",
        "#     eval_dataset=val_dataset,            # evaluation dataset\n",
        "#     tokenizer=tokenizer,\n",
        "#     compute_metrics=compute_metrics\n",
        "# )\n",
        "class CustomTrainer(Trainer):\n",
        "  def training_step(self, model: nn.Module, inputs: Dict[str, Union[torch.Tensor, Any]]) -> torch.Tensor:\n",
        "    \n",
        "    pass\n"
      ],
      "execution_count": null,
      "outputs": []
    },
    {
      "cell_type": "code",
      "metadata": {
        "id": "vkVHdjxa8VvL"
      },
      "source": [
        "trainer.train()"
      ],
      "execution_count": null,
      "outputs": []
    },
    {
      "cell_type": "code",
      "metadata": {
        "id": "repIPCsx8VvL"
      },
      "source": [
        "# save model\n",
        "save_directory = '/content/drive/MyDrive/nuswhispers_bert_extended/'\n",
        "tokenizer.save_pretrained(save_directory)\n",
        "model.save_pretrained(save_directory)"
      ],
      "execution_count": null,
      "outputs": []
    }
  ]
}